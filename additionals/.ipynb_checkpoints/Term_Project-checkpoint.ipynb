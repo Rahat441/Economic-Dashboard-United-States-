{
 "cells": [
  {
   "cell_type": "code",
   "execution_count": 1,
   "metadata": {},
   "outputs": [],
   "source": [
    "import numpy as np\n",
    "import pandas as pd\n",
    "import plotly.express as px\n",
    "import seaborn as sns\n",
    "import datetime\n",
    "\n",
    "\n",
    "\n",
    "from sklearn.linear_model import LinearRegression, LogisticRegression\n",
    "from sklearn.ensemble import RandomForestRegressor\n",
    "\n",
    "from sklearn.model_selection import train_test_split\n",
    "\n",
    "from sklearn import metrics\n",
    "\n",
    "#from sklearn.metrics import accuracy_score, precision_score, recall_score, confusion_matrix"
   ]
  },
  {
   "cell_type": "code",
   "execution_count": 2,
   "metadata": {},
   "outputs": [],
   "source": [
    "def us_state_to_abbrev(string):\n",
    "    us_state_to_abbrev = {\n",
    "        \"Alabama\": \"AL\",\n",
    "        \"Alaska\": \"AK\",\n",
    "        \"Arizona\": \"AZ\",\n",
    "        \"Arkansas\": \"AR\",\n",
    "        \"California\": \"CA\",\n",
    "        \"Colorado\": \"CO\",\n",
    "        \"Connecticut\": \"CT\",\n",
    "        \"Delaware\": \"DE\",\n",
    "        \"Florida\": \"FL\",\n",
    "        \"Georgia\": \"GA\",\n",
    "        \"Hawaii\": \"HI\",\n",
    "        \"Idaho\": \"ID\",\n",
    "        \"Illinois\": \"IL\",\n",
    "        \"Indiana\": \"IN\",\n",
    "        \"Iowa\": \"IA\",\n",
    "        \"Kansas\": \"KS\",\n",
    "        \"Kentucky\": \"KY\",\n",
    "        \"Louisiana\": \"LA\",\n",
    "        \"Maine\": \"ME\",\n",
    "        \"Maryland\": \"MD\",\n",
    "        \"Massachusetts\": \"MA\",\n",
    "        \"Michigan\": \"MI\",\n",
    "        \"Minnesota\": \"MN\",\n",
    "        \"Mississippi\": \"MS\",\n",
    "        \"Missouri\": \"MO\",\n",
    "        \"Montana\": \"MT\",\n",
    "        \"Nebraska\": \"NE\",\n",
    "        \"Nevada\": \"NV\",\n",
    "        \"New Hampshire\": \"NH\",\n",
    "        \"New Jersey\": \"NJ\",\n",
    "        \"New Mexico\": \"NM\",\n",
    "        \"New York\": \"NY\",\n",
    "        \"North Carolina\": \"NC\",\n",
    "        \"North Dakota\": \"ND\",\n",
    "        \"Ohio\": \"OH\",\n",
    "        \"Oklahoma\": \"OK\",\n",
    "        \"Oregon\": \"OR\",\n",
    "        \"Pennsylvania\": \"PA\",\n",
    "        \"Rhode Island\": \"RI\",\n",
    "        \"South Carolina\": \"SC\",\n",
    "        \"South Dakota\": \"SD\",\n",
    "        \"Tennessee\": \"TN\",\n",
    "        \"Texas\": \"TX\",\n",
    "        \"Utah\": \"UT\",\n",
    "        \"Vermont\": \"VT\",\n",
    "        \"Virginia\": \"VA\",\n",
    "        \"Washington\": \"WA\",\n",
    "        \"West Virginia\": \"WV\",\n",
    "        \"Wisconsin\": \"WI\",\n",
    "        \"Wyoming\": \"WY\",\n",
    "        \"District of Columbia\": \"DC\",\n",
    "        \"American Samoa\": \"AS\",\n",
    "        \"Guam\": \"GU\",\n",
    "        \"Northern Mariana Islands\": \"MP\",\n",
    "        \"Puerto Rico\": \"PR\",\n",
    "        \"United States Minor Outlying Islands\": \"UM\",\n",
    "        \"U.S. Virgin Islands\": \"VI\",\n",
    "        }\n",
    "    return us_state_to_abbrev[string]"
   ]
  },
  {
   "cell_type": "code",
   "execution_count": 3,
   "metadata": {},
   "outputs": [
    {
     "data": {
      "text/plain": [
       "'NY'"
      ]
     },
     "execution_count": 3,
     "metadata": {},
     "output_type": "execute_result"
    }
   ],
   "source": [
    "us_state_to_abbrev(\"New York\")"
   ]
  },
  {
   "cell_type": "code",
   "execution_count": 11,
   "metadata": {},
   "outputs": [
    {
     "name": "stderr",
     "output_type": "stream",
     "text": [
      "<ipython-input-11-5da32bb970a1>:5: SettingWithCopyWarning:\n",
      "\n",
      "\n",
      "A value is trying to be set on a copy of a slice from a DataFrame.\n",
      "Try using .loc[row_indexer,col_indexer] = value instead\n",
      "\n",
      "See the caveats in the documentation: https://pandas.pydata.org/pandas-docs/stable/user_guide/indexing.html#returning-a-view-versus-a-copy\n",
      "\n",
      "<ipython-input-11-5da32bb970a1>:19: SettingWithCopyWarning:\n",
      "\n",
      "\n",
      "A value is trying to be set on a copy of a slice from a DataFrame.\n",
      "Try using .loc[row_indexer,col_indexer] = value instead\n",
      "\n",
      "See the caveats in the documentation: https://pandas.pydata.org/pandas-docs/stable/user_guide/indexing.html#returning-a-view-versus-a-copy\n",
      "\n"
     ]
    },
    {
     "data": {
      "text/html": [
       "<div>\n",
       "<style scoped>\n",
       "    .dataframe tbody tr th:only-of-type {\n",
       "        vertical-align: middle;\n",
       "    }\n",
       "\n",
       "    .dataframe tbody tr th {\n",
       "        vertical-align: top;\n",
       "    }\n",
       "\n",
       "    .dataframe thead th {\n",
       "        text-align: right;\n",
       "    }\n",
       "</style>\n",
       "<table border=\"1\" class=\"dataframe\">\n",
       "  <thead>\n",
       "    <tr style=\"text-align: right;\">\n",
       "      <th></th>\n",
       "      <th>GeoName</th>\n",
       "      <th>Quarter</th>\n",
       "      <th>Year</th>\n",
       "      <th>Date</th>\n",
       "      <th>Real GDP</th>\n",
       "      <th>Personal Income</th>\n",
       "      <th>Population</th>\n",
       "      <th>Real GDP per Capita</th>\n",
       "      <th>Personal Income per Capita</th>\n",
       "      <th>Abbrev</th>\n",
       "    </tr>\n",
       "  </thead>\n",
       "  <tbody>\n",
       "    <tr>\n",
       "      <th>46</th>\n",
       "      <td>Alabama</td>\n",
       "      <td>1</td>\n",
       "      <td>2010</td>\n",
       "      <td>2010-03-31</td>\n",
       "      <td>181276.7</td>\n",
       "      <td>158974.3</td>\n",
       "      <td>4777041</td>\n",
       "      <td>0.037947</td>\n",
       "      <td>0.033279</td>\n",
       "      <td>AL</td>\n",
       "    </tr>\n",
       "    <tr>\n",
       "      <th>47</th>\n",
       "      <td>Alabama</td>\n",
       "      <td>2</td>\n",
       "      <td>2010</td>\n",
       "      <td>2010-06-30</td>\n",
       "      <td>183649.6</td>\n",
       "      <td>161723.0</td>\n",
       "      <td>4782770</td>\n",
       "      <td>0.038398</td>\n",
       "      <td>0.033814</td>\n",
       "      <td>AL</td>\n",
       "    </tr>\n",
       "    <tr>\n",
       "      <th>48</th>\n",
       "      <td>Alabama</td>\n",
       "      <td>3</td>\n",
       "      <td>2010</td>\n",
       "      <td>2010-09-30</td>\n",
       "      <td>187004.4</td>\n",
       "      <td>164445.3</td>\n",
       "      <td>4788032</td>\n",
       "      <td>0.039057</td>\n",
       "      <td>0.034345</td>\n",
       "      <td>AL</td>\n",
       "    </tr>\n",
       "    <tr>\n",
       "      <th>49</th>\n",
       "      <td>Alabama</td>\n",
       "      <td>4</td>\n",
       "      <td>2010</td>\n",
       "      <td>2010-03-31</td>\n",
       "      <td>186878.9</td>\n",
       "      <td>164981.8</td>\n",
       "      <td>4792367</td>\n",
       "      <td>0.038995</td>\n",
       "      <td>0.034426</td>\n",
       "      <td>AL</td>\n",
       "    </tr>\n",
       "    <tr>\n",
       "      <th>50</th>\n",
       "      <td>Alabama</td>\n",
       "      <td>1</td>\n",
       "      <td>2011</td>\n",
       "      <td>2011-03-31</td>\n",
       "      <td>185740.7</td>\n",
       "      <td>167490.6</td>\n",
       "      <td>4795107</td>\n",
       "      <td>0.038735</td>\n",
       "      <td>0.034929</td>\n",
       "      <td>AL</td>\n",
       "    </tr>\n",
       "    <tr>\n",
       "      <th>...</th>\n",
       "      <td>...</td>\n",
       "      <td>...</td>\n",
       "      <td>...</td>\n",
       "      <td>...</td>\n",
       "      <td>...</td>\n",
       "      <td>...</td>\n",
       "      <td>...</td>\n",
       "      <td>...</td>\n",
       "      <td>...</td>\n",
       "      <td>...</td>\n",
       "    </tr>\n",
       "    <tr>\n",
       "      <th>2387</th>\n",
       "      <td>Wyoming</td>\n",
       "      <td>2</td>\n",
       "      <td>2020</td>\n",
       "      <td>2020-06-30</td>\n",
       "      <td>34125.7</td>\n",
       "      <td>37267.7</td>\n",
       "      <td>582157</td>\n",
       "      <td>0.058619</td>\n",
       "      <td>0.064017</td>\n",
       "      <td>WY</td>\n",
       "    </tr>\n",
       "    <tr>\n",
       "      <th>2388</th>\n",
       "      <td>Wyoming</td>\n",
       "      <td>3</td>\n",
       "      <td>2020</td>\n",
       "      <td>2020-09-30</td>\n",
       "      <td>36364.7</td>\n",
       "      <td>35407.2</td>\n",
       "      <td>582693</td>\n",
       "      <td>0.062408</td>\n",
       "      <td>0.060765</td>\n",
       "      <td>WY</td>\n",
       "    </tr>\n",
       "    <tr>\n",
       "      <th>2389</th>\n",
       "      <td>Wyoming</td>\n",
       "      <td>4</td>\n",
       "      <td>2020</td>\n",
       "      <td>2020-03-31</td>\n",
       "      <td>36477.2</td>\n",
       "      <td>35827.5</td>\n",
       "      <td>583332</td>\n",
       "      <td>0.062532</td>\n",
       "      <td>0.061419</td>\n",
       "      <td>WY</td>\n",
       "    </tr>\n",
       "    <tr>\n",
       "      <th>2390</th>\n",
       "      <td>Wyoming</td>\n",
       "      <td>1</td>\n",
       "      <td>2021</td>\n",
       "      <td>2021-03-31</td>\n",
       "      <td>36808.8</td>\n",
       "      <td>39704.7</td>\n",
       "      <td>583653</td>\n",
       "      <td>0.063066</td>\n",
       "      <td>0.068028</td>\n",
       "      <td>WY</td>\n",
       "    </tr>\n",
       "    <tr>\n",
       "      <th>2391</th>\n",
       "      <td>Wyoming</td>\n",
       "      <td>2</td>\n",
       "      <td>2021</td>\n",
       "      <td>2021-06-30</td>\n",
       "      <td>37014.4</td>\n",
       "      <td>37141.5</td>\n",
       "      <td>584090</td>\n",
       "      <td>0.063371</td>\n",
       "      <td>0.063589</td>\n",
       "      <td>WY</td>\n",
       "    </tr>\n",
       "  </tbody>\n",
       "</table>\n",
       "<p>2346 rows × 10 columns</p>\n",
       "</div>"
      ],
      "text/plain": [
       "      GeoName  Quarter  Year        Date  Real GDP  Personal Income  \\\n",
       "46    Alabama        1  2010  2010-03-31  181276.7         158974.3   \n",
       "47    Alabama        2  2010  2010-06-30  183649.6         161723.0   \n",
       "48    Alabama        3  2010  2010-09-30  187004.4         164445.3   \n",
       "49    Alabama        4  2010  2010-03-31  186878.9         164981.8   \n",
       "50    Alabama        1  2011  2011-03-31  185740.7         167490.6   \n",
       "...       ...      ...   ...         ...       ...              ...   \n",
       "2387  Wyoming        2  2020  2020-06-30   34125.7          37267.7   \n",
       "2388  Wyoming        3  2020  2020-09-30   36364.7          35407.2   \n",
       "2389  Wyoming        4  2020  2020-03-31   36477.2          35827.5   \n",
       "2390  Wyoming        1  2021  2021-03-31   36808.8          39704.7   \n",
       "2391  Wyoming        2  2021  2021-06-30   37014.4          37141.5   \n",
       "\n",
       "      Population  Real GDP per Capita  Personal Income per Capita Abbrev  \n",
       "46       4777041             0.037947                    0.033279     AL  \n",
       "47       4782770             0.038398                    0.033814     AL  \n",
       "48       4788032             0.039057                    0.034345     AL  \n",
       "49       4792367             0.038995                    0.034426     AL  \n",
       "50       4795107             0.038735                    0.034929     AL  \n",
       "...          ...                  ...                         ...    ...  \n",
       "2387      582157             0.058619                    0.064017     WY  \n",
       "2388      582693             0.062408                    0.060765     WY  \n",
       "2389      583332             0.062532                    0.061419     WY  \n",
       "2390      583653             0.063066                    0.068028     WY  \n",
       "2391      584090             0.063371                    0.063589     WY  \n",
       "\n",
       "[2346 rows x 10 columns]"
      ]
     },
     "execution_count": 11,
     "metadata": {},
     "output_type": "execute_result"
    }
   ],
   "source": [
    "df1 = pd.read_csv(\"Master_DF.csv\")\n",
    "\n",
    "\n",
    "df1_nat = df1[df1['GeoName'] == 'United States']\n",
    "df1_nat[\"Abrev\"] = \"US\"\n",
    "\n",
    "df1_states = df1[df1['GeoName'].isin(['Alabama', 'Alaska', 'Arizona', 'Arkansas',\n",
    "       'California', 'Colorado', 'Connecticut', 'Delaware',\n",
    "       'District of Columbia', 'Florida', 'Georgia', 'Hawaii', 'Idaho',\n",
    "       'Illinois', 'Indiana', 'Iowa', 'Kansas', 'Kentucky', 'Louisiana',\n",
    "       'Maine', 'Maryland', 'Massachusetts', 'Michigan', 'Minnesota',\n",
    "       'Mississippi', 'Missouri', 'Montana', 'Nebraska', 'Nevada',\n",
    "       'New Hampshire', 'New Jersey', 'New Mexico', 'New York',\n",
    "       'North Carolina', 'North Dakota', 'Ohio', 'Oklahoma', 'Oregon',\n",
    "       'Pennsylvania', 'Rhode Island', 'South Carolina', 'South Dakota',\n",
    "       'Tennessee', 'Texas', 'Utah', 'Vermont', 'Virginia', 'Washington',\n",
    "       'West Virginia', 'Wisconsin', 'Wyoming'])]\n",
    "\n",
    "df1_states[\"Abbrev\"] = df1_states['GeoName'].apply(us_state_to_abbrev)\n",
    "\n",
    "df1_regions = df1[df1['GeoName'].isin(['Wyoming', 'New England', 'Mideast',\n",
    "       'Great Lakes', 'Plains', 'Southeast', 'Southwest',\n",
    "       'Rocky Mountain', 'Far West'])]\n",
    "\n",
    "df1_states"
   ]
  },
  {
   "cell_type": "code",
   "execution_count": 5,
   "metadata": {},
   "outputs": [
    {
     "data": {
      "text/plain": [
       "<matplotlib.axes._subplots.AxesSubplot at 0x7f976006ea60>"
      ]
     },
     "execution_count": 5,
     "metadata": {},
     "output_type": "execute_result"
    },
    {
     "data": {
      "image/png": "[encoded data removed]",
      "text/plain": [
       "<Figure size 432x288 with 1 Axes>"
      ]
     },
     "metadata": {
      "needs_background": "light"
     },
     "output_type": "display_data"
    }
   ],
   "source": [
    "#model_nat = LinearRegression()\n",
    "    \n",
    "df1_states.plot(kind='scatter', x= \"Real GDP\", y= \"Personal Income\", s=1)\n",
    "sns.regplot(x='Real GDP', y='Personal Income',data = df1_states)"
   ]
  },
  {
   "cell_type": "code",
   "execution_count": 12,
   "metadata": {},
   "outputs": [],
   "source": [
    "df1_states_recent = df1_states[df1_states[\"Date\"] == \"2010-03-31\"]"
   ]
  },
  {
   "cell_type": "code",
   "execution_count": 13,
   "metadata": {},
   "outputs": [
    {
     "data": {
      "text/html": [
       "<div>\n",
       "<style scoped>\n",
       "    .dataframe tbody tr th:only-of-type {\n",
       "        vertical-align: middle;\n",
       "    }\n",
       "\n",
       "    .dataframe tbody tr th {\n",
       "        vertical-align: top;\n",
       "    }\n",
       "\n",
       "    .dataframe thead th {\n",
       "        text-align: right;\n",
       "    }\n",
       "</style>\n",
       "<table border=\"1\" class=\"dataframe\">\n",
       "  <thead>\n",
       "    <tr style=\"text-align: right;\">\n",
       "      <th></th>\n",
       "      <th>GeoName</th>\n",
       "      <th>Quarter</th>\n",
       "      <th>Year</th>\n",
       "      <th>Date</th>\n",
       "      <th>Real GDP</th>\n",
       "      <th>Personal Income</th>\n",
       "      <th>Population</th>\n",
       "      <th>Real GDP per Capita</th>\n",
       "      <th>Personal Income per Capita</th>\n",
       "      <th>Abbrev</th>\n",
       "    </tr>\n",
       "  </thead>\n",
       "  <tbody>\n",
       "    <tr>\n",
       "      <th>88</th>\n",
       "      <td>Alabama</td>\n",
       "      <td>3</td>\n",
       "      <td>2020</td>\n",
       "      <td>2020-09-30</td>\n",
       "      <td>199018.5</td>\n",
       "      <td>227926.7</td>\n",
       "      <td>4924127</td>\n",
       "      <td>0.040417</td>\n",
       "      <td>0.046288</td>\n",
       "      <td>AL</td>\n",
       "    </tr>\n",
       "    <tr>\n",
       "      <th>134</th>\n",
       "      <td>Alaska</td>\n",
       "      <td>3</td>\n",
       "      <td>2020</td>\n",
       "      <td>2020-09-30</td>\n",
       "      <td>50102.0</td>\n",
       "      <td>46041.0</td>\n",
       "      <td>730832</td>\n",
       "      <td>0.068555</td>\n",
       "      <td>0.062998</td>\n",
       "      <td>AK</td>\n",
       "    </tr>\n",
       "    <tr>\n",
       "      <th>180</th>\n",
       "      <td>Arizona</td>\n",
       "      <td>3</td>\n",
       "      <td>2020</td>\n",
       "      <td>2020-09-30</td>\n",
       "      <td>323445.9</td>\n",
       "      <td>374902.4</td>\n",
       "      <td>7439087</td>\n",
       "      <td>0.043479</td>\n",
       "      <td>0.050396</td>\n",
       "      <td>AZ</td>\n",
       "    </tr>\n",
       "    <tr>\n",
       "      <th>226</th>\n",
       "      <td>Arkansas</td>\n",
       "      <td>3</td>\n",
       "      <td>2020</td>\n",
       "      <td>2020-09-30</td>\n",
       "      <td>116255.4</td>\n",
       "      <td>141548.5</td>\n",
       "      <td>3032333</td>\n",
       "      <td>0.038339</td>\n",
       "      <td>0.046680</td>\n",
       "      <td>AR</td>\n",
       "    </tr>\n",
       "    <tr>\n",
       "      <th>272</th>\n",
       "      <td>California</td>\n",
       "      <td>3</td>\n",
       "      <td>2020</td>\n",
       "      <td>2020-09-30</td>\n",
       "      <td>2693845.4</td>\n",
       "      <td>2851416.5</td>\n",
       "      <td>39363261</td>\n",
       "      <td>0.068436</td>\n",
       "      <td>0.072439</td>\n",
       "      <td>CA</td>\n",
       "    </tr>\n",
       "  </tbody>\n",
       "</table>\n",
       "</div>"
      ],
      "text/plain": [
       "        GeoName  Quarter  Year        Date   Real GDP  Personal Income  \\\n",
       "88      Alabama        3  2020  2020-09-30   199018.5         227926.7   \n",
       "134      Alaska        3  2020  2020-09-30    50102.0          46041.0   \n",
       "180     Arizona        3  2020  2020-09-30   323445.9         374902.4   \n",
       "226    Arkansas        3  2020  2020-09-30   116255.4         141548.5   \n",
       "272  California        3  2020  2020-09-30  2693845.4        2851416.5   \n",
       "\n",
       "     Population  Real GDP per Capita  Personal Income per Capita Abbrev  \n",
       "88      4924127             0.040417                    0.046288     AL  \n",
       "134      730832             0.068555                    0.062998     AK  \n",
       "180     7439087             0.043479                    0.050396     AZ  \n",
       "226     3032333             0.038339                    0.046680     AR  \n",
       "272    39363261             0.068436                    0.072439     CA  "
      ]
     },
     "execution_count": 13,
     "metadata": {},
     "output_type": "execute_result"
    }
   ],
   "source": [
    "df1_states_recent.head()"
   ]
  },
  {
   "cell_type": "code",
   "execution_count": 14,
   "metadata": {},
   "outputs": [
    {
     "data": {
      "application/vnd.plotly.v1+json": {
       "config": {
        "plotlyServerURL": "https://plot.ly"
       },
       "data": [
        {
         "coloraxis": "coloraxis",
         "geo": "geo",
         "hovertemplate": "Abbrev=%{location}<br>Personal Income=%{z}<extra></extra>",
         "locationmode": "USA-states",
         "locations": [
          "AL",
          "AK",
          "AZ",
          "AR",
          "CA",
          "CO",
          "CT",
          "DE",
          "DC",
          "FL",
          "GA",
          "HI",
          "ID",
          "IL",
          "IN",
          "IA",
          "KS",
          "KY",
          "LA",
          "ME",
          "MD",
          "MA",
          "MI",
          "MN",
          "MS",
          "MO",
          "MT",
          "NE",
          "NV",
          "NH",
          "NJ",
          "NM",
          "NY",
          "NC",
          "ND",
          "OH",
          "OK",
          "OR",
          "PA",
          "RI",
          "SC",
          "SD",
          "TN",
          "TX",
          "UT",
          "VT",
          "VA",
          "WA",
          "WV",
          "WI",
          "WY"
         ],
         "name": "",
         "type": "choropleth",
         "z": [
          227926.7,
          46041,
          374902.4,
          141548.5,
          2851416.5,
          368151.9,
          280636.9,
          55086.5,
          62966,
          1216737,
          561497.2,
          82980.6,
          87911.3,
          799747.1,
          349234.3,
          167002.6,
          160691.8,
          209285,
          239656.8,
          72047.6,
          408911.2,
          543021.7,
          530786.8,
          348415.2,
          124580.9,
          314381.4,
          56619.6,
          109415.5,
          168127.1,
          90956.8,
          657270.4,
          98623.3,
          1472400.3,
          531153.6,
          46230.2,
          627527.3,
          195692.4,
          239795.4,
          802975.5,
          64942.1,
          248183.1,
          51609.7,
          350696.9,
          1628647.2,
          167365.7,
          36525.5,
          532894.7,
          517545.2,
          79065.3,
          319962,
          35407.2
         ]
        }
       ],
       "layout": {
        "coloraxis": {
         "cmax": 2851416.5,
         "cmin": 0,
         "colorbar": {
          "title": {
           "text": "Personal Income"
          }
         },
         "colorscale": [
          [
           0,
           "#0d0887"
          ],
          [
           0.1111111111111111,
           "#46039f"
          ],
          [
           0.2222222222222222,
           "#7201a8"
          ],
          [
           0.3333333333333333,
           "#9c179e"
          ],
          [
           0.4444444444444444,
           "#bd3786"
          ],
          [
           0.5555555555555556,
           "#d8576b"
          ],
          [
           0.6666666666666666,
           "#ed7953"
          ],
          [
           0.7777777777777778,
           "#fb9f3a"
          ],
          [
           0.8888888888888888,
           "#fdca26"
          ],
          [
           1,
           "#f0f921"
          ]
         ]
        },
        "geo": {
         "center": {},
         "domain": {
          "x": [
           0,
           1
          ],
          "y": [
           0,
           1
          ]
         },
         "scope": "usa"
        },
        "legend": {
         "tracegroupgap": 0
        },
        "margin": {
         "t": 60
        },
        "template": {
         "data": {
          "bar": [
           {
            "error_x": {
             "color": "#2a3f5f"
            },
            "error_y": {
             "color": "#2a3f5f"
            },
            "marker": {
             "line": {
              "color": "#E5ECF6",
              "width": 0.5
             },
             "pattern": {
              "fillmode": "overlay",
              "size": 10,
              "solidity": 0.2
             }
            },
            "type": "bar"
           }
          ],
          "barpolar": [
           {
            "marker": {
             "line": {
              "color": "#E5ECF6",
              "width": 0.5
             },
             "pattern": {
              "fillmode": "overlay",
              "size": 10,
              "solidity": 0.2
             }
            },
            "type": "barpolar"
           }
          ],
          "carpet": [
           {
            "aaxis": {
             "endlinecolor": "#2a3f5f",
             "gridcolor": "white",
             "linecolor": "white",
             "minorgridcolor": "white",
             "startlinecolor": "#2a3f5f"
            },
            "baxis": {
             "endlinecolor": "#2a3f5f",
             "gridcolor": "white",
             "linecolor": "white",
             "minorgridcolor": "white",
             "startlinecolor": "#2a3f5f"
            },
            "type": "carpet"
           }
          ],
          "choropleth": [
           {
            "colorbar": {
             "outlinewidth": 0,
             "ticks": ""
            },
            "type": "choropleth"
           }
          ],
          "contour": [
           {
            "colorbar": {
             "outlinewidth": 0,
             "ticks": ""
            },
            "colorscale": [
             [
              0,
              "#0d0887"
             ],
             [
              0.1111111111111111,
              "#46039f"
             ],
             [
              0.2222222222222222,
              "#7201a8"
             ],
             [
              0.3333333333333333,
              "#9c179e"
             ],
             [
              0.4444444444444444,
              "#bd3786"
             ],
             [
              0.5555555555555556,
              "#d8576b"
             ],
             [
              0.6666666666666666,
              "#ed7953"
             ],
             [
              0.7777777777777778,
              "#fb9f3a"
             ],
             [
              0.8888888888888888,
              "#fdca26"
             ],
             [
              1,
              "#f0f921"
             ]
            ],
            "type": "contour"
           }
          ],
          "contourcarpet": [
           {
            "colorbar": {
             "outlinewidth": 0,
             "ticks": ""
            },
            "type": "contourcarpet"
           }
          ],
          "heatmap": [
           {
            "colorbar": {
             "outlinewidth": 0,
             "ticks": ""
            },
            "colorscale": [
             [
              0,
              "#0d0887"
             ],
             [
              0.1111111111111111,
              "#46039f"
             ],
             [
              0.2222222222222222,
              "#7201a8"
             ],
             [
              0.3333333333333333,
              "#9c179e"
             ],
             [
              0.4444444444444444,
              "#bd3786"
             ],
             [
              0.5555555555555556,
              "#d8576b"
             ],
             [
              0.6666666666666666,
              "#ed7953"
             ],
             [
              0.7777777777777778,
              "#fb9f3a"
             ],
             [
              0.8888888888888888,
              "#fdca26"
             ],
             [
              1,
              "#f0f921"
             ]
            ],
            "type": "heatmap"
           }
          ],
          "heatmapgl": [
           {
            "colorbar": {
             "outlinewidth": 0,
             "ticks": ""
            },
            "colorscale": [
             [
              0,
              "#0d0887"
             ],
             [
              0.1111111111111111,
              "#46039f"
             ],
             [
              0.2222222222222222,
              "#7201a8"
             ],
             [
              0.3333333333333333,
              "#9c179e"
             ],
             [
              0.4444444444444444,
              "#bd3786"
             ],
             [
              0.5555555555555556,
              "#d8576b"
             ],
             [
              0.6666666666666666,
              "#ed7953"
             ],
             [
              0.7777777777777778,
              "#fb9f3a"
             ],
             [
              0.8888888888888888,
              "#fdca26"
             ],
             [
              1,
              "#f0f921"
             ]
            ],
            "type": "heatmapgl"
           }
          ],
          "histogram": [
           {
            "marker": {
             "pattern": {
              "fillmode": "overlay",
              "size": 10,
              "solidity": 0.2
             }
            },
            "type": "histogram"
           }
          ],
          "histogram2d": [
           {
            "colorbar": {
             "outlinewidth": 0,
             "ticks": ""
            },
            "colorscale": [
             [
              0,
              "#0d0887"
             ],
             [
              0.1111111111111111,
              "#46039f"
             ],
             [
              0.2222222222222222,
              "#7201a8"
             ],
             [
              0.3333333333333333,
              "#9c179e"
             ],
             [
              0.4444444444444444,
              "#bd3786"
             ],
             [
              0.5555555555555556,
              "#d8576b"
             ],
             [
              0.6666666666666666,
              "#ed7953"
             ],
             [
              0.7777777777777778,
              "#fb9f3a"
             ],
             [
              0.8888888888888888,
              "#fdca26"
             ],
             [
              1,
              "#f0f921"
             ]
            ],
            "type": "histogram2d"
           }
          ],
          "histogram2dcontour": [
           {
            "colorbar": {
             "outlinewidth": 0,
             "ticks": ""
            },
            "colorscale": [
             [
              0,
              "#0d0887"
             ],
             [
              0.1111111111111111,
              "#46039f"
             ],
             [
              0.2222222222222222,
              "#7201a8"
             ],
             [
              0.3333333333333333,
              "#9c179e"
             ],
             [
              0.4444444444444444,
              "#bd3786"
             ],
             [
              0.5555555555555556,
              "#d8576b"
             ],
             [
              0.6666666666666666,
              "#ed7953"
             ],
             [
              0.7777777777777778,
              "#fb9f3a"
             ],
             [
              0.8888888888888888,
              "#fdca26"
             ],
             [
              1,
              "#f0f921"
             ]
            ],
            "type": "histogram2dcontour"
           }
          ],
          "mesh3d": [
           {
            "colorbar": {
             "outlinewidth": 0,
             "ticks": ""
            },
            "type": "mesh3d"
           }
          ],
          "parcoords": [
           {
            "line": {
             "colorbar": {
              "outlinewidth": 0,
              "ticks": ""
             }
            },
            "type": "parcoords"
           }
          ],
          "pie": [
           {
            "automargin": true,
            "type": "pie"
           }
          ],
          "scatter": [
           {
            "fillpattern": {
             "fillmode": "overlay",
             "size": 10,
             "solidity": 0.2
            },
            "type": "scatter"
           }
          ],
          "scatter3d": [
           {
            "line": {
             "colorbar": {
              "outlinewidth": 0,
              "ticks": ""
             }
            },
            "marker": {
             "colorbar": {
              "outlinewidth": 0,
              "ticks": ""
             }
            },
            "type": "scatter3d"
           }
          ],
          "scattercarpet": [
           {
            "marker": {
             "colorbar": {
              "outlinewidth": 0,
              "ticks": ""
             }
            },
            "type": "scattercarpet"
           }
          ],
          "scattergeo": [
           {
            "marker": {
             "colorbar": {
              "outlinewidth": 0,
              "ticks": ""
             }
            },
            "type": "scattergeo"
           }
          ],
          "scattergl": [
           {
            "marker": {
             "colorbar": {
              "outlinewidth": 0,
              "ticks": ""
             }
            },
            "type": "scattergl"
           }
          ],
          "scattermapbox": [
           {
            "marker": {
             "colorbar": {
              "outlinewidth": 0,
              "ticks": ""
             }
            },
            "type": "scattermapbox"
           }
          ],
          "scatterpolar": [
           {
            "marker": {
             "colorbar": {
              "outlinewidth": 0,
              "ticks": ""
             }
            },
            "type": "scatterpolar"
           }
          ],
          "scatterpolargl": [
           {
            "marker": {
             "colorbar": {
              "outlinewidth": 0,
              "ticks": ""
             }
            },
            "type": "scatterpolargl"
           }
          ],
          "scatterternary": [
           {
            "marker": {
             "colorbar": {
              "outlinewidth": 0,
              "ticks": ""
             }
            },
            "type": "scatterternary"
           }
          ],
          "surface": [
           {
            "colorbar": {
             "outlinewidth": 0,
             "ticks": ""
            },
            "colorscale": [
             [
              0,
              "#0d0887"
             ],
             [
              0.1111111111111111,
              "#46039f"
             ],
             [
              0.2222222222222222,
              "#7201a8"
             ],
             [
              0.3333333333333333,
              "#9c179e"
             ],
             [
              0.4444444444444444,
              "#bd3786"
             ],
             [
              0.5555555555555556,
              "#d8576b"
             ],
             [
              0.6666666666666666,
              "#ed7953"
             ],
             [
              0.7777777777777778,
              "#fb9f3a"
             ],
             [
              0.8888888888888888,
              "#fdca26"
             ],
             [
              1,
              "#f0f921"
             ]
            ],
            "type": "surface"
           }
          ],
          "table": [
           {
            "cells": {
             "fill": {
              "color": "#EBF0F8"
             },
             "line": {
              "color": "white"
             }
            },
            "header": {
             "fill": {
              "color": "#C8D4E3"
             },
             "line": {
              "color": "white"
             }
            },
            "type": "table"
           }
          ]
         },
         "layout": {
          "annotationdefaults": {
           "arrowcolor": "#2a3f5f",
           "arrowhead": 0,
           "arrowwidth": 1
          },
          "autotypenumbers": "strict",
          "coloraxis": {
           "colorbar": {
            "outlinewidth": 0,
            "ticks": ""
           }
          },
          "colorscale": {
           "diverging": [
            [
             0,
             "#8e0152"
            ],
            [
             0.1,
             "#c51b7d"
            ],
            [
             0.2,
             "#de77ae"
            ],
            [
             0.3,
             "#f1b6da"
            ],
            [
             0.4,
             "#fde0ef"
            ],
            [
             0.5,
             "#f7f7f7"
            ],
            [
             0.6,
             "#e6f5d0"
            ],
            [
             0.7,
             "#b8e186"
            ],
            [
             0.8,
             "#7fbc41"
            ],
            [
             0.9,
             "#4d9221"
            ],
            [
             1,
             "#276419"
            ]
           ],
           "sequential": [
            [
             0,
             "#0d0887"
            ],
            [
             0.1111111111111111,
             "#46039f"
            ],
            [
             0.2222222222222222,
             "#7201a8"
            ],
            [
             0.3333333333333333,
             "#9c179e"
            ],
            [
             0.4444444444444444,
             "#bd3786"
            ],
            [
             0.5555555555555556,
             "#d8576b"
            ],
            [
             0.6666666666666666,
             "#ed7953"
            ],
            [
             0.7777777777777778,
             "#fb9f3a"
            ],
            [
             0.8888888888888888,
             "#fdca26"
            ],
            [
             1,
             "#f0f921"
            ]
           ],
           "sequentialminus": [
            [
             0,
             "#0d0887"
            ],
            [
             0.1111111111111111,
             "#46039f"
            ],
            [
             0.2222222222222222,
             "#7201a8"
            ],
            [
             0.3333333333333333,
             "#9c179e"
            ],
            [
             0.4444444444444444,
             "#bd3786"
            ],
            [
             0.5555555555555556,
             "#d8576b"
            ],
            [
             0.6666666666666666,
             "#ed7953"
            ],
            [
             0.7777777777777778,
             "#fb9f3a"
            ],
            [
             0.8888888888888888,
             "#fdca26"
            ],
            [
             1,
             "#f0f921"
            ]
           ]
          },
          "colorway": [
           "#636efa",
           "#EF553B",
           "#00cc96",
           "#ab63fa",
           "#FFA15A",
           "#19d3f3",
           "#FF6692",
           "#B6E880",
           "#FF97FF",
           "#FECB52"
          ],
          "font": {
           "color": "#2a3f5f"
          },
          "geo": {
           "bgcolor": "white",
           "lakecolor": "white",
           "landcolor": "#E5ECF6",
           "showlakes": true,
           "showland": true,
           "subunitcolor": "white"
          },
          "hoverlabel": {
           "align": "left"
          },
          "hovermode": "closest",
          "mapbox": {
           "style": "light"
          },
          "paper_bgcolor": "white",
          "plot_bgcolor": "#E5ECF6",
          "polar": {
           "angularaxis": {
            "gridcolor": "white",
            "linecolor": "white",
            "ticks": ""
           },
           "bgcolor": "#E5ECF6",
           "radialaxis": {
            "gridcolor": "white",
            "linecolor": "white",
            "ticks": ""
           }
          },
          "scene": {
           "xaxis": {
            "backgroundcolor": "#E5ECF6",
            "gridcolor": "white",
            "gridwidth": 2,
            "linecolor": "white",
            "showbackground": true,
            "ticks": "",
            "zerolinecolor": "white"
           },
           "yaxis": {
            "backgroundcolor": "#E5ECF6",
            "gridcolor": "white",
            "gridwidth": 2,
            "linecolor": "white",
            "showbackground": true,
            "ticks": "",
            "zerolinecolor": "white"
           },
           "zaxis": {
            "backgroundcolor": "#E5ECF6",
            "gridcolor": "white",
            "gridwidth": 2,
            "linecolor": "white",
            "showbackground": true,
            "ticks": "",
            "zerolinecolor": "white"
           }
          },
          "shapedefaults": {
           "line": {
            "color": "#2a3f5f"
           }
          },
          "ternary": {
           "aaxis": {
            "gridcolor": "white",
            "linecolor": "white",
            "ticks": ""
           },
           "baxis": {
            "gridcolor": "white",
            "linecolor": "white",
            "ticks": ""
           },
           "bgcolor": "#E5ECF6",
           "caxis": {
            "gridcolor": "white",
            "linecolor": "white",
            "ticks": ""
           }
          },
          "title": {
           "x": 0.05
          },
          "xaxis": {
           "automargin": true,
           "gridcolor": "white",
           "linecolor": "white",
           "ticks": "",
           "title": {
            "standoff": 15
           },
           "zerolinecolor": "white",
           "zerolinewidth": 2
          },
          "yaxis": {
           "automargin": true,
           "gridcolor": "white",
           "linecolor": "white",
           "ticks": "",
           "title": {
            "standoff": 15
           },
           "zerolinecolor": "white",
           "zerolinewidth": 2
          }
         }
        }
       }
      },
      "text/html": [
       "<div>                            <div id=\"af841502-4d0d-4c94-ba5a-81c1de12900c\" class=\"plotly-graph-div\" style=\"height:525px; width:100%;\"></div>            <script type=\"text/javascript\">                require([\"plotly\"], function(Plotly) {                    window.PLOTLYENV=window.PLOTLYENV || {};                                    if (document.getElementById(\"af841502-4d0d-4c94-ba5a-81c1de12900c\")) {                    Plotly.newPlot(                        \"af841502-4d0d-4c94-ba5a-81c1de12900c\",                        [{\"coloraxis\":\"coloraxis\",\"geo\":\"geo\",\"hovertemplate\":\"Abbrev=%{location}<br>Personal Income=%{z}<extra></extra>\",\"locationmode\":\"USA-states\",\"locations\":[\"AL\",\"AK\",\"AZ\",\"AR\",\"CA\",\"CO\",\"CT\",\"DE\",\"DC\",\"FL\",\"GA\",\"HI\",\"ID\",\"IL\",\"IN\",\"IA\",\"KS\",\"KY\",\"LA\",\"ME\",\"MD\",\"MA\",\"MI\",\"MN\",\"MS\",\"MO\",\"MT\",\"NE\",\"NV\",\"NH\",\"NJ\",\"NM\",\"NY\",\"NC\",\"ND\",\"OH\",\"OK\",\"OR\",\"PA\",\"RI\",\"SC\",\"SD\",\"TN\",\"TX\",\"UT\",\"VT\",\"VA\",\"WA\",\"WV\",\"WI\",\"WY\"],\"name\":\"\",\"z\":[227926.7,46041.0,374902.4,141548.5,2851416.5,368151.9,280636.9,55086.5,62966.0,1216737.0,561497.2,82980.6,87911.3,799747.1,349234.3,167002.6,160691.8,209285.0,239656.8,72047.6,408911.2,543021.7,530786.8,348415.2,124580.9,314381.4,56619.6,109415.5,168127.1,90956.8,657270.4,98623.3,1472400.3,531153.6,46230.2,627527.3,195692.4,239795.4,802975.5,64942.1,248183.1,51609.7,350696.9,1628647.2,167365.7,36525.5,532894.7,517545.2,79065.3,319962.0,35407.2],\"type\":\"choropleth\"}],                        {\"template\":{\"data\":{\"histogram2dcontour\":[{\"type\":\"histogram2dcontour\",\"colorbar\":{\"outlinewidth\":0,\"ticks\":\"\"},\"colorscale\":[[0.0,\"#0d0887\"],[0.1111111111111111,\"#46039f\"],[0.2222222222222222,\"#7201a8\"],[0.3333333333333333,\"#9c179e\"],[0.4444444444444444,\"#bd3786\"],[0.5555555555555556,\"#d8576b\"],[0.6666666666666666,\"#ed7953\"],[0.7777777777777778,\"#fb9f3a\"],[0.8888888888888888,\"#fdca26\"],[1.0,\"#f0f921\"]]}],\"choropleth\":[{\"type\":\"choropleth\",\"colorbar\":{\"outlinewidth\":0,\"ticks\":\"\"}}],\"histogram2d\":[{\"type\":\"histogram2d\",\"colorbar\":{\"outlinewidth\":0,\"ticks\":\"\"},\"colorscale\":[[0.0,\"#0d0887\"],[0.1111111111111111,\"#46039f\"],[0.2222222222222222,\"#7201a8\"],[0.3333333333333333,\"#9c179e\"],[0.4444444444444444,\"#bd3786\"],[0.5555555555555556,\"#d8576b\"],[0.6666666666666666,\"#ed7953\"],[0.7777777777777778,\"#fb9f3a\"],[0.8888888888888888,\"#fdca26\"],[1.0,\"#f0f921\"]]}],\"heatmap\":[{\"type\":\"heatmap\",\"colorbar\":{\"outlinewidth\":0,\"ticks\":\"\"},\"colorscale\":[[0.0,\"#0d0887\"],[0.1111111111111111,\"#46039f\"],[0.2222222222222222,\"#7201a8\"],[0.3333333333333333,\"#9c179e\"],[0.4444444444444444,\"#bd3786\"],[0.5555555555555556,\"#d8576b\"],[0.6666666666666666,\"#ed7953\"],[0.7777777777777778,\"#fb9f3a\"],[0.8888888888888888,\"#fdca26\"],[1.0,\"#f0f921\"]]}],\"heatmapgl\":[{\"type\":\"heatmapgl\",\"colorbar\":{\"outlinewidth\":0,\"ticks\":\"\"},\"colorscale\":[[0.0,\"#0d0887\"],[0.1111111111111111,\"#46039f\"],[0.2222222222222222,\"#7201a8\"],[0.3333333333333333,\"#9c179e\"],[0.4444444444444444,\"#bd3786\"],[0.5555555555555556,\"#d8576b\"],[0.6666666666666666,\"#ed7953\"],[0.7777777777777778,\"#fb9f3a\"],[0.8888888888888888,\"#fdca26\"],[1.0,\"#f0f921\"]]}],\"contourcarpet\":[{\"type\":\"contourcarpet\",\"colorbar\":{\"outlinewidth\":0,\"ticks\":\"\"}}],\"contour\":[{\"type\":\"contour\",\"colorbar\":{\"outlinewidth\":0,\"ticks\":\"\"},\"colorscale\":[[0.0,\"#0d0887\"],[0.1111111111111111,\"#46039f\"],[0.2222222222222222,\"#7201a8\"],[0.3333333333333333,\"#9c179e\"],[0.4444444444444444,\"#bd3786\"],[0.5555555555555556,\"#d8576b\"],[0.6666666666666666,\"#ed7953\"],[0.7777777777777778,\"#fb9f3a\"],[0.8888888888888888,\"#fdca26\"],[1.0,\"#f0f921\"]]}],\"surface\":[{\"type\":\"surface\",\"colorbar\":{\"outlinewidth\":0,\"ticks\":\"\"},\"colorscale\":[[0.0,\"#0d0887\"],[0.1111111111111111,\"#46039f\"],[0.2222222222222222,\"#7201a8\"],[0.3333333333333333,\"#9c179e\"],[0.4444444444444444,\"#bd3786\"],[0.5555555555555556,\"#d8576b\"],[0.6666666666666666,\"#ed7953\"],[0.7777777777777778,\"#fb9f3a\"],[0.8888888888888888,\"#fdca26\"],[1.0,\"#f0f921\"]]}],\"mesh3d\":[{\"type\":\"mesh3d\",\"colorbar\":{\"outlinewidth\":0,\"ticks\":\"\"}}],\"scatter\":[{\"fillpattern\":{\"fillmode\":\"overlay\",\"size\":10,\"solidity\":0.2},\"type\":\"scatter\"}],\"parcoords\":[{\"type\":\"parcoords\",\"line\":{\"colorbar\":{\"outlinewidth\":0,\"ticks\":\"\"}}}],\"scatterpolargl\":[{\"type\":\"scatterpolargl\",\"marker\":{\"colorbar\":{\"outlinewidth\":0,\"ticks\":\"\"}}}],\"bar\":[{\"error_x\":{\"color\":\"#2a3f5f\"},\"error_y\":{\"color\":\"#2a3f5f\"},\"marker\":{\"line\":{\"color\":\"#E5ECF6\",\"width\":0.5},\"pattern\":{\"fillmode\":\"overlay\",\"size\":10,\"solidity\":0.2}},\"type\":\"bar\"}],\"scattergeo\":[{\"type\":\"scattergeo\",\"marker\":{\"colorbar\":{\"outlinewidth\":0,\"ticks\":\"\"}}}],\"scatterpolar\":[{\"type\":\"scatterpolar\",\"marker\":{\"colorbar\":{\"outlinewidth\":0,\"ticks\":\"\"}}}],\"histogram\":[{\"marker\":{\"pattern\":{\"fillmode\":\"overlay\",\"size\":10,\"solidity\":0.2}},\"type\":\"histogram\"}],\"scattergl\":[{\"type\":\"scattergl\",\"marker\":{\"colorbar\":{\"outlinewidth\":0,\"ticks\":\"\"}}}],\"scatter3d\":[{\"type\":\"scatter3d\",\"line\":{\"colorbar\":{\"outlinewidth\":0,\"ticks\":\"\"}},\"marker\":{\"colorbar\":{\"outlinewidth\":0,\"ticks\":\"\"}}}],\"scattermapbox\":[{\"type\":\"scattermapbox\",\"marker\":{\"colorbar\":{\"outlinewidth\":0,\"ticks\":\"\"}}}],\"scatterternary\":[{\"type\":\"scatterternary\",\"marker\":{\"colorbar\":{\"outlinewidth\":0,\"ticks\":\"\"}}}],\"scattercarpet\":[{\"type\":\"scattercarpet\",\"marker\":{\"colorbar\":{\"outlinewidth\":0,\"ticks\":\"\"}}}],\"carpet\":[{\"aaxis\":{\"endlinecolor\":\"#2a3f5f\",\"gridcolor\":\"white\",\"linecolor\":\"white\",\"minorgridcolor\":\"white\",\"startlinecolor\":\"#2a3f5f\"},\"baxis\":{\"endlinecolor\":\"#2a3f5f\",\"gridcolor\":\"white\",\"linecolor\":\"white\",\"minorgridcolor\":\"white\",\"startlinecolor\":\"#2a3f5f\"},\"type\":\"carpet\"}],\"table\":[{\"cells\":{\"fill\":{\"color\":\"#EBF0F8\"},\"line\":{\"color\":\"white\"}},\"header\":{\"fill\":{\"color\":\"#C8D4E3\"},\"line\":{\"color\":\"white\"}},\"type\":\"table\"}],\"barpolar\":[{\"marker\":{\"line\":{\"color\":\"#E5ECF6\",\"width\":0.5},\"pattern\":{\"fillmode\":\"overlay\",\"size\":10,\"solidity\":0.2}},\"type\":\"barpolar\"}],\"pie\":[{\"automargin\":true,\"type\":\"pie\"}]},\"layout\":{\"autotypenumbers\":\"strict\",\"colorway\":[\"#636efa\",\"#EF553B\",\"#00cc96\",\"#ab63fa\",\"#FFA15A\",\"#19d3f3\",\"#FF6692\",\"#B6E880\",\"#FF97FF\",\"#FECB52\"],\"font\":{\"color\":\"#2a3f5f\"},\"hovermode\":\"closest\",\"hoverlabel\":{\"align\":\"left\"},\"paper_bgcolor\":\"white\",\"plot_bgcolor\":\"#E5ECF6\",\"polar\":{\"bgcolor\":\"#E5ECF6\",\"angularaxis\":{\"gridcolor\":\"white\",\"linecolor\":\"white\",\"ticks\":\"\"},\"radialaxis\":{\"gridcolor\":\"white\",\"linecolor\":\"white\",\"ticks\":\"\"}},\"ternary\":{\"bgcolor\":\"#E5ECF6\",\"aaxis\":{\"gridcolor\":\"white\",\"linecolor\":\"white\",\"ticks\":\"\"},\"baxis\":{\"gridcolor\":\"white\",\"linecolor\":\"white\",\"ticks\":\"\"},\"caxis\":{\"gridcolor\":\"white\",\"linecolor\":\"white\",\"ticks\":\"\"}},\"coloraxis\":{\"colorbar\":{\"outlinewidth\":0,\"ticks\":\"\"}},\"colorscale\":{\"sequential\":[[0.0,\"#0d0887\"],[0.1111111111111111,\"#46039f\"],[0.2222222222222222,\"#7201a8\"],[0.3333333333333333,\"#9c179e\"],[0.4444444444444444,\"#bd3786\"],[0.5555555555555556,\"#d8576b\"],[0.6666666666666666,\"#ed7953\"],[0.7777777777777778,\"#fb9f3a\"],[0.8888888888888888,\"#fdca26\"],[1.0,\"#f0f921\"]],\"sequentialminus\":[[0.0,\"#0d0887\"],[0.1111111111111111,\"#46039f\"],[0.2222222222222222,\"#7201a8\"],[0.3333333333333333,\"#9c179e\"],[0.4444444444444444,\"#bd3786\"],[0.5555555555555556,\"#d8576b\"],[0.6666666666666666,\"#ed7953\"],[0.7777777777777778,\"#fb9f3a\"],[0.8888888888888888,\"#fdca26\"],[1.0,\"#f0f921\"]],\"diverging\":[[0,\"#8e0152\"],[0.1,\"#c51b7d\"],[0.2,\"#de77ae\"],[0.3,\"#f1b6da\"],[0.4,\"#fde0ef\"],[0.5,\"#f7f7f7\"],[0.6,\"#e6f5d0\"],[0.7,\"#b8e186\"],[0.8,\"#7fbc41\"],[0.9,\"#4d9221\"],[1,\"#276419\"]]},\"xaxis\":{\"gridcolor\":\"white\",\"linecolor\":\"white\",\"ticks\":\"\",\"title\":{\"standoff\":15},\"zerolinecolor\":\"white\",\"automargin\":true,\"zerolinewidth\":2},\"yaxis\":{\"gridcolor\":\"white\",\"linecolor\":\"white\",\"ticks\":\"\",\"title\":{\"standoff\":15},\"zerolinecolor\":\"white\",\"automargin\":true,\"zerolinewidth\":2},\"scene\":{\"xaxis\":{\"backgroundcolor\":\"#E5ECF6\",\"gridcolor\":\"white\",\"linecolor\":\"white\",\"showbackground\":true,\"ticks\":\"\",\"zerolinecolor\":\"white\",\"gridwidth\":2},\"yaxis\":{\"backgroundcolor\":\"#E5ECF6\",\"gridcolor\":\"white\",\"linecolor\":\"white\",\"showbackground\":true,\"ticks\":\"\",\"zerolinecolor\":\"white\",\"gridwidth\":2},\"zaxis\":{\"backgroundcolor\":\"#E5ECF6\",\"gridcolor\":\"white\",\"linecolor\":\"white\",\"showbackground\":true,\"ticks\":\"\",\"zerolinecolor\":\"white\",\"gridwidth\":2}},\"shapedefaults\":{\"line\":{\"color\":\"#2a3f5f\"}},\"annotationdefaults\":{\"arrowcolor\":\"#2a3f5f\",\"arrowhead\":0,\"arrowwidth\":1},\"geo\":{\"bgcolor\":\"white\",\"landcolor\":\"#E5ECF6\",\"subunitcolor\":\"white\",\"showland\":true,\"showlakes\":true,\"lakecolor\":\"white\"},\"title\":{\"x\":0.05},\"mapbox\":{\"style\":\"light\"}}},\"geo\":{\"domain\":{\"x\":[0.0,1.0],\"y\":[0.0,1.0]},\"center\":{},\"scope\":\"usa\"},\"coloraxis\":{\"colorbar\":{\"title\":{\"text\":\"Personal Income\"}},\"colorscale\":[[0.0,\"#0d0887\"],[0.1111111111111111,\"#46039f\"],[0.2222222222222222,\"#7201a8\"],[0.3333333333333333,\"#9c179e\"],[0.4444444444444444,\"#bd3786\"],[0.5555555555555556,\"#d8576b\"],[0.6666666666666666,\"#ed7953\"],[0.7777777777777778,\"#fb9f3a\"],[0.8888888888888888,\"#fdca26\"],[1.0,\"#f0f921\"]],\"cmin\":0,\"cmax\":2851416.5},\"legend\":{\"tracegroupgap\":0},\"margin\":{\"t\":60}},                        {\"responsive\": true}                    ).then(function(){\n",
       "                            \n",
       "var gd = document.getElementById('af841502-4d0d-4c94-ba5a-81c1de12900c');\n",
       "var x = new MutationObserver(function (mutations, observer) {{\n",
       "        var display = window.getComputedStyle(gd).display;\n",
       "        if (!display || display === 'none') {{\n",
       "            console.log([gd, 'removed!']);\n",
       "            Plotly.purge(gd);\n",
       "            observer.disconnect();\n",
       "        }}\n",
       "}});\n",
       "\n",
       "// Listen for the removal of the full notebook cells\n",
       "var notebookContainer = gd.closest('#notebook-container');\n",
       "if (notebookContainer) {{\n",
       "    x.observe(notebookContainer, {childList: true});\n",
       "}}\n",
       "\n",
       "// Listen for the clearing of the current output cell\n",
       "var outputEl = gd.closest('.output');\n",
       "if (outputEl) {{\n",
       "    x.observe(outputEl, {childList: true});\n",
       "}}\n",
       "\n",
       "                        })                };                });            </script>        </div>"
      ]
     },
     "metadata": {},
     "output_type": "display_data"
    }
   ],
   "source": [
    "fig = px.choropleth(df1_states_recent,\n",
    "                    locations=\"Abbrev\",\n",
    "                    color= \"Personal Income\",\n",
    "                    locationmode=\"USA-states\", \n",
    "                    range_color=(0,df1_states_recent[\"Personal Income\"].max()), \n",
    "                    scope=\"usa\")\n",
    "fig.show()"
   ]
  },
  {
   "cell_type": "code",
   "execution_count": 9,
   "metadata": {},
   "outputs": [
    {
     "data": {
      "application/vnd.plotly.v1+json": {
       "config": {
        "plotlyServerURL": "https://plot.ly"
       },
       "data": [
        {
         "coloraxis": "coloraxis",
         "geo": "geo",
         "hovertemplate": "Abbrev=%{location}<br>Personal Income per Capita=%{z}<extra></extra>",
         "locationmode": "USA-states",
         "locations": [
          "AL",
          "AK",
          "AZ",
          "AR",
          "CA",
          "CO",
          "CT",
          "DE",
          "DC",
          "FL",
          "GA",
          "HI",
          "ID",
          "IL",
          "IN",
          "IA",
          "KS",
          "KY",
          "LA",
          "ME",
          "MD",
          "MA",
          "MI",
          "MN",
          "MS",
          "MO",
          "MT",
          "NE",
          "NV",
          "NH",
          "NJ",
          "NM",
          "NY",
          "NC",
          "ND",
          "OH",
          "OK",
          "OR",
          "PA",
          "RI",
          "SC",
          "SD",
          "TN",
          "TX",
          "UT",
          "VT",
          "VA",
          "WA",
          "WV",
          "WI",
          "WY"
         ],
         "name": "",
         "type": "choropleth",
         "z": [
          0.0481333076517578,
          0.0655006596025362,
          0.050372883929491,
          0.0490791702609366,
          0.0743037439003821,
          0.0666791632519021,
          0.0818483580775925,
          0.0575043834308824,
          0.090043362031741,
          0.0584408183926032,
          0.0544416407122943,
          0.0608072007962749,
          0.0502404761136737,
          0.0672428593076928,
          0.0546251605817523,
          0.0564565963405473,
          0.0583798755160372,
          0.0492591582502253,
          0.0532813887882518,
          0.0556340250489797,
          0.0700024560229748,
          0.0819946789303048,
          0.0548642820157197,
          0.0646744492117482,
          0.0441275572292201,
          0.054120483179465,
          0.0555331653918044,
          0.0612894634216202,
          0.0555772854980949,
          0.0681261086332878,
          0.0771931583750012,
          0.0481611896178461,
          0.0784040341826097,
          0.0525678508085335,
          0.0659142745302713,
          0.0557668278014388,
          0.0515635672541834,
          0.0585443216169063,
          0.063275813176805,
          0.0616237417398924,
          0.0497374340738941,
          0.0624455546015143,
          0.0533403768213201,
          0.0577937344559751,
          0.053539006997327,
          0.0603960443762501,
          0.0639687600998314,
          0.0704413198549897,
          0.046343490086237,
          0.0573596376574499,
          0.0635886592819599
         ]
        }
       ],
       "layout": {
        "coloraxis": {
         "cmax": 0.090043362031741,
         "cmin": 0,
         "colorbar": {
          "title": {
           "text": "Personal Income per Capita"
          }
         },
         "colorscale": [
          [
           0,
           "#0d0887"
          ],
          [
           0.1111111111111111,
           "#46039f"
          ],
          [
           0.2222222222222222,
           "#7201a8"
          ],
          [
           0.3333333333333333,
           "#9c179e"
          ],
          [
           0.4444444444444444,
           "#bd3786"
          ],
          [
           0.5555555555555556,
           "#d8576b"
          ],
          [
           0.6666666666666666,
           "#ed7953"
          ],
          [
           0.7777777777777778,
           "#fb9f3a"
          ],
          [
           0.8888888888888888,
           "#fdca26"
          ],
          [
           1,
           "#f0f921"
          ]
         ]
        },
        "geo": {
         "center": {},
         "domain": {
          "x": [
           0,
           1
          ],
          "y": [
           0,
           1
          ]
         },
         "scope": "usa"
        },
        "legend": {
         "tracegroupgap": 0
        },
        "margin": {
         "t": 60
        },
        "template": {
         "data": {
          "bar": [
           {
            "error_x": {
             "color": "#2a3f5f"
            },
            "error_y": {
             "color": "#2a3f5f"
            },
            "marker": {
             "line": {
              "color": "#E5ECF6",
              "width": 0.5
             },
             "pattern": {
              "fillmode": "overlay",
              "size": 10,
              "solidity": 0.2
             }
            },
            "type": "bar"
           }
          ],
          "barpolar": [
           {
            "marker": {
             "line": {
              "color": "#E5ECF6",
              "width": 0.5
             },
             "pattern": {
              "fillmode": "overlay",
              "size": 10,
              "solidity": 0.2
             }
            },
            "type": "barpolar"
           }
          ],
          "carpet": [
           {
            "aaxis": {
             "endlinecolor": "#2a3f5f",
             "gridcolor": "white",
             "linecolor": "white",
             "minorgridcolor": "white",
             "startlinecolor": "#2a3f5f"
            },
            "baxis": {
             "endlinecolor": "#2a3f5f",
             "gridcolor": "white",
             "linecolor": "white",
             "minorgridcolor": "white",
             "startlinecolor": "#2a3f5f"
            },
            "type": "carpet"
           }
          ],
          "choropleth": [
           {
            "colorbar": {
             "outlinewidth": 0,
             "ticks": ""
            },
            "type": "choropleth"
           }
          ],
          "contour": [
           {
            "colorbar": {
             "outlinewidth": 0,
             "ticks": ""
            },
            "colorscale": [
             [
              0,
              "#0d0887"
             ],
             [
              0.1111111111111111,
              "#46039f"
             ],
             [
              0.2222222222222222,
              "#7201a8"
             ],
             [
              0.3333333333333333,
              "#9c179e"
             ],
             [
              0.4444444444444444,
              "#bd3786"
             ],
             [
              0.5555555555555556,
              "#d8576b"
             ],
             [
              0.6666666666666666,
              "#ed7953"
             ],
             [
              0.7777777777777778,
              "#fb9f3a"
             ],
             [
              0.8888888888888888,
              "#fdca26"
             ],
             [
              1,
              "#f0f921"
             ]
            ],
            "type": "contour"
           }
          ],
          "contourcarpet": [
           {
            "colorbar": {
             "outlinewidth": 0,
             "ticks": ""
            },
            "type": "contourcarpet"
           }
          ],
          "heatmap": [
           {
            "colorbar": {
             "outlinewidth": 0,
             "ticks": ""
            },
            "colorscale": [
             [
              0,
              "#0d0887"
             ],
             [
              0.1111111111111111,
              "#46039f"
             ],
             [
              0.2222222222222222,
              "#7201a8"
             ],
             [
              0.3333333333333333,
              "#9c179e"
             ],
             [
              0.4444444444444444,
              "#bd3786"
             ],
             [
              0.5555555555555556,
              "#d8576b"
             ],
             [
              0.6666666666666666,
              "#ed7953"
             ],
             [
              0.7777777777777778,
              "#fb9f3a"
             ],
             [
              0.8888888888888888,
              "#fdca26"
             ],
             [
              1,
              "#f0f921"
             ]
            ],
            "type": "heatmap"
           }
          ],
          "heatmapgl": [
           {
            "colorbar": {
             "outlinewidth": 0,
             "ticks": ""
            },
            "colorscale": [
             [
              0,
              "#0d0887"
             ],
             [
              0.1111111111111111,
              "#46039f"
             ],
             [
              0.2222222222222222,
              "#7201a8"
             ],
             [
              0.3333333333333333,
              "#9c179e"
             ],
             [
              0.4444444444444444,
              "#bd3786"
             ],
             [
              0.5555555555555556,
              "#d8576b"
             ],
             [
              0.6666666666666666,
              "#ed7953"
             ],
             [
              0.7777777777777778,
              "#fb9f3a"
             ],
             [
              0.8888888888888888,
              "#fdca26"
             ],
             [
              1,
              "#f0f921"
             ]
            ],
            "type": "heatmapgl"
           }
          ],
          "histogram": [
           {
            "marker": {
             "pattern": {
              "fillmode": "overlay",
              "size": 10,
              "solidity": 0.2
             }
            },
            "type": "histogram"
           }
          ],
          "histogram2d": [
           {
            "colorbar": {
             "outlinewidth": 0,
             "ticks": ""
            },
            "colorscale": [
             [
              0,
              "#0d0887"
             ],
             [
              0.1111111111111111,
              "#46039f"
             ],
             [
              0.2222222222222222,
              "#7201a8"
             ],
             [
              0.3333333333333333,
              "#9c179e"
             ],
             [
              0.4444444444444444,
              "#bd3786"
             ],
             [
              0.5555555555555556,
              "#d8576b"
             ],
             [
              0.6666666666666666,
              "#ed7953"
             ],
             [
              0.7777777777777778,
              "#fb9f3a"
             ],
             [
              0.8888888888888888,
              "#fdca26"
             ],
             [
              1,
              "#f0f921"
             ]
            ],
            "type": "histogram2d"
           }
          ],
          "histogram2dcontour": [
           {
            "colorbar": {
             "outlinewidth": 0,
             "ticks": ""
            },
            "colorscale": [
             [
              0,
              "#0d0887"
             ],
             [
              0.1111111111111111,
              "#46039f"
             ],
             [
              0.2222222222222222,
              "#7201a8"
             ],
             [
              0.3333333333333333,
              "#9c179e"
             ],
             [
              0.4444444444444444,
              "#bd3786"
             ],
             [
              0.5555555555555556,
              "#d8576b"
             ],
             [
              0.6666666666666666,
              "#ed7953"
             ],
             [
              0.7777777777777778,
              "#fb9f3a"
             ],
             [
              0.8888888888888888,
              "#fdca26"
             ],
             [
              1,
              "#f0f921"
             ]
            ],
            "type": "histogram2dcontour"
           }
          ],
          "mesh3d": [
           {
            "colorbar": {
             "outlinewidth": 0,
             "ticks": ""
            },
            "type": "mesh3d"
           }
          ],
          "parcoords": [
           {
            "line": {
             "colorbar": {
              "outlinewidth": 0,
              "ticks": ""
             }
            },
            "type": "parcoords"
           }
          ],
          "pie": [
           {
            "automargin": true,
            "type": "pie"
           }
          ],
          "scatter": [
           {
            "marker": {
             "colorbar": {
              "outlinewidth": 0,
              "ticks": ""
             }
            },
            "type": "scatter"
           }
          ],
          "scatter3d": [
           {
            "line": {
             "colorbar": {
              "outlinewidth": 0,
              "ticks": ""
             }
            },
            "marker": {
             "colorbar": {
              "outlinewidth": 0,
              "ticks": ""
             }
            },
            "type": "scatter3d"
           }
          ],
          "scattercarpet": [
           {
            "marker": {
             "colorbar": {
              "outlinewidth": 0,
              "ticks": ""
             }
            },
            "type": "scattercarpet"
           }
          ],
          "scattergeo": [
           {
            "marker": {
             "colorbar": {
              "outlinewidth": 0,
              "ticks": ""
             }
            },
            "type": "scattergeo"
           }
          ],
          "scattergl": [
           {
            "marker": {
             "colorbar": {
              "outlinewidth": 0,
              "ticks": ""
             }
            },
            "type": "scattergl"
           }
          ],
          "scattermapbox": [
           {
            "marker": {
             "colorbar": {
              "outlinewidth": 0,
              "ticks": ""
             }
            },
            "type": "scattermapbox"
           }
          ],
          "scatterpolar": [
           {
            "marker": {
             "colorbar": {
              "outlinewidth": 0,
              "ticks": ""
             }
            },
            "type": "scatterpolar"
           }
          ],
          "scatterpolargl": [
           {
            "marker": {
             "colorbar": {
              "outlinewidth": 0,
              "ticks": ""
             }
            },
            "type": "scatterpolargl"
           }
          ],
          "scatterternary": [
           {
            "marker": {
             "colorbar": {
              "outlinewidth": 0,
              "ticks": ""
             }
            },
            "type": "scatterternary"
           }
          ],
          "surface": [
           {
            "colorbar": {
             "outlinewidth": 0,
             "ticks": ""
            },
            "colorscale": [
             [
              0,
              "#0d0887"
             ],
             [
              0.1111111111111111,
              "#46039f"
             ],
             [
              0.2222222222222222,
              "#7201a8"
             ],
             [
              0.3333333333333333,
              "#9c179e"
             ],
             [
              0.4444444444444444,
              "#bd3786"
             ],
             [
              0.5555555555555556,
              "#d8576b"
             ],
             [
              0.6666666666666666,
              "#ed7953"
             ],
             [
              0.7777777777777778,
              "#fb9f3a"
             ],
             [
              0.8888888888888888,
              "#fdca26"
             ],
             [
              1,
              "#f0f921"
             ]
            ],
            "type": "surface"
           }
          ],
          "table": [
           {
            "cells": {
             "fill": {
              "color": "#EBF0F8"
             },
             "line": {
              "color": "white"
             }
            },
            "header": {
             "fill": {
              "color": "#C8D4E3"
             },
             "line": {
              "color": "white"
             }
            },
            "type": "table"
           }
          ]
         },
         "layout": {
          "annotationdefaults": {
           "arrowcolor": "#2a3f5f",
           "arrowhead": 0,
           "arrowwidth": 1
          },
          "autotypenumbers": "strict",
          "coloraxis": {
           "colorbar": {
            "outlinewidth": 0,
            "ticks": ""
           }
          },
          "colorscale": {
           "diverging": [
            [
             0,
             "#8e0152"
            ],
            [
             0.1,
             "#c51b7d"
            ],
            [
             0.2,
             "#de77ae"
            ],
            [
             0.3,
             "#f1b6da"
            ],
            [
             0.4,
             "#fde0ef"
            ],
            [
             0.5,
             "#f7f7f7"
            ],
            [
             0.6,
             "#e6f5d0"
            ],
            [
             0.7,
             "#b8e186"
            ],
            [
             0.8,
             "#7fbc41"
            ],
            [
             0.9,
             "#4d9221"
            ],
            [
             1,
             "#276419"
            ]
           ],
           "sequential": [
            [
             0,
             "#0d0887"
            ],
            [
             0.1111111111111111,
             "#46039f"
            ],
            [
             0.2222222222222222,
             "#7201a8"
            ],
            [
             0.3333333333333333,
             "#9c179e"
            ],
            [
             0.4444444444444444,
             "#bd3786"
            ],
            [
             0.5555555555555556,
             "#d8576b"
            ],
            [
             0.6666666666666666,
             "#ed7953"
            ],
            [
             0.7777777777777778,
             "#fb9f3a"
            ],
            [
             0.8888888888888888,
             "#fdca26"
            ],
            [
             1,
             "#f0f921"
            ]
           ],
           "sequentialminus": [
            [
             0,
             "#0d0887"
            ],
            [
             0.1111111111111111,
             "#46039f"
            ],
            [
             0.2222222222222222,
             "#7201a8"
            ],
            [
             0.3333333333333333,
             "#9c179e"
            ],
            [
             0.4444444444444444,
             "#bd3786"
            ],
            [
             0.5555555555555556,
             "#d8576b"
            ],
            [
             0.6666666666666666,
             "#ed7953"
            ],
            [
             0.7777777777777778,
             "#fb9f3a"
            ],
            [
             0.8888888888888888,
             "#fdca26"
            ],
            [
             1,
             "#f0f921"
            ]
           ]
          },
          "colorway": [
           "#636efa",
           "#EF553B",
           "#00cc96",
           "#ab63fa",
           "#FFA15A",
           "#19d3f3",
           "#FF6692",
           "#B6E880",
           "#FF97FF",
           "#FECB52"
          ],
          "font": {
           "color": "#2a3f5f"
          },
          "geo": {
           "bgcolor": "white",
           "lakecolor": "white",
           "landcolor": "#E5ECF6",
           "showlakes": true,
           "showland": true,
           "subunitcolor": "white"
          },
          "hoverlabel": {
           "align": "left"
          },
          "hovermode": "closest",
          "mapbox": {
           "style": "light"
          },
          "paper_bgcolor": "white",
          "plot_bgcolor": "#E5ECF6",
          "polar": {
           "angularaxis": {
            "gridcolor": "white",
            "linecolor": "white",
            "ticks": ""
           },
           "bgcolor": "#E5ECF6",
           "radialaxis": {
            "gridcolor": "white",
            "linecolor": "white",
            "ticks": ""
           }
          },
          "scene": {
           "xaxis": {
            "backgroundcolor": "#E5ECF6",
            "gridcolor": "white",
            "gridwidth": 2,
            "linecolor": "white",
            "showbackground": true,
            "ticks": "",
            "zerolinecolor": "white"
           },
           "yaxis": {
            "backgroundcolor": "#E5ECF6",
            "gridcolor": "white",
            "gridwidth": 2,
            "linecolor": "white",
            "showbackground": true,
            "ticks": "",
            "zerolinecolor": "white"
           },
           "zaxis": {
            "backgroundcolor": "#E5ECF6",
            "gridcolor": "white",
            "gridwidth": 2,
            "linecolor": "white",
            "showbackground": true,
            "ticks": "",
            "zerolinecolor": "white"
           }
          },
          "shapedefaults": {
           "line": {
            "color": "#2a3f5f"
           }
          },
          "ternary": {
           "aaxis": {
            "gridcolor": "white",
            "linecolor": "white",
            "ticks": ""
           },
           "baxis": {
            "gridcolor": "white",
            "linecolor": "white",
            "ticks": ""
           },
           "bgcolor": "#E5ECF6",
           "caxis": {
            "gridcolor": "white",
            "linecolor": "white",
            "ticks": ""
           }
          },
          "title": {
           "x": 0.05
          },
          "xaxis": {
           "automargin": true,
           "gridcolor": "white",
           "linecolor": "white",
           "ticks": "",
           "title": {
            "standoff": 15
           },
           "zerolinecolor": "white",
           "zerolinewidth": 2
          },
          "yaxis": {
           "automargin": true,
           "gridcolor": "white",
           "linecolor": "white",
           "ticks": "",
           "title": {
            "standoff": 15
           },
           "zerolinecolor": "white",
           "zerolinewidth": 2
          }
         }
        }
       }
      },
      "text/html": [
       "<div>                            <div id=\"b2e1c7e0-d010-4e84-b2d5-46259c94437f\" class=\"plotly-graph-div\" style=\"height:525px; width:100%;\"></div>            <script type=\"text/javascript\">                require([\"plotly\"], function(Plotly) {                    window.PLOTLYENV=window.PLOTLYENV || {};                                    if (document.getElementById(\"b2e1c7e0-d010-4e84-b2d5-46259c94437f\")) {                    Plotly.newPlot(                        \"b2e1c7e0-d010-4e84-b2d5-46259c94437f\",                        [{\"coloraxis\":\"coloraxis\",\"geo\":\"geo\",\"hovertemplate\":\"Abbrev=%{location}<br>Personal Income per Capita=%{z}<extra></extra>\",\"locationmode\":\"USA-states\",\"locations\":[\"AL\",\"AK\",\"AZ\",\"AR\",\"CA\",\"CO\",\"CT\",\"DE\",\"DC\",\"FL\",\"GA\",\"HI\",\"ID\",\"IL\",\"IN\",\"IA\",\"KS\",\"KY\",\"LA\",\"ME\",\"MD\",\"MA\",\"MI\",\"MN\",\"MS\",\"MO\",\"MT\",\"NE\",\"NV\",\"NH\",\"NJ\",\"NM\",\"NY\",\"NC\",\"ND\",\"OH\",\"OK\",\"OR\",\"PA\",\"RI\",\"SC\",\"SD\",\"TN\",\"TX\",\"UT\",\"VT\",\"VA\",\"WA\",\"WV\",\"WI\",\"WY\"],\"name\":\"\",\"z\":[0.0481333076517578,0.0655006596025362,0.050372883929491,0.0490791702609366,0.0743037439003821,0.0666791632519021,0.0818483580775925,0.0575043834308824,0.090043362031741,0.0584408183926032,0.0544416407122943,0.0608072007962749,0.0502404761136737,0.0672428593076928,0.0546251605817523,0.0564565963405473,0.0583798755160372,0.0492591582502253,0.0532813887882518,0.0556340250489797,0.0700024560229748,0.0819946789303048,0.0548642820157197,0.0646744492117482,0.0441275572292201,0.054120483179465,0.0555331653918044,0.0612894634216202,0.0555772854980949,0.0681261086332878,0.0771931583750012,0.0481611896178461,0.0784040341826097,0.0525678508085335,0.0659142745302713,0.0557668278014388,0.0515635672541834,0.0585443216169063,0.063275813176805,0.0616237417398924,0.0497374340738941,0.0624455546015143,0.0533403768213201,0.0577937344559751,0.053539006997327,0.0603960443762501,0.0639687600998314,0.0704413198549897,0.046343490086237,0.0573596376574499,0.0635886592819599],\"type\":\"choropleth\"}],                        {\"template\":{\"data\":{\"bar\":[{\"error_x\":{\"color\":\"#2a3f5f\"},\"error_y\":{\"color\":\"#2a3f5f\"},\"marker\":{\"line\":{\"color\":\"#E5ECF6\",\"width\":0.5},\"pattern\":{\"fillmode\":\"overlay\",\"size\":10,\"solidity\":0.2}},\"type\":\"bar\"}],\"barpolar\":[{\"marker\":{\"line\":{\"color\":\"#E5ECF6\",\"width\":0.5},\"pattern\":{\"fillmode\":\"overlay\",\"size\":10,\"solidity\":0.2}},\"type\":\"barpolar\"}],\"carpet\":[{\"aaxis\":{\"endlinecolor\":\"#2a3f5f\",\"gridcolor\":\"white\",\"linecolor\":\"white\",\"minorgridcolor\":\"white\",\"startlinecolor\":\"#2a3f5f\"},\"baxis\":{\"endlinecolor\":\"#2a3f5f\",\"gridcolor\":\"white\",\"linecolor\":\"white\",\"minorgridcolor\":\"white\",\"startlinecolor\":\"#2a3f5f\"},\"type\":\"carpet\"}],\"choropleth\":[{\"colorbar\":{\"outlinewidth\":0,\"ticks\":\"\"},\"type\":\"choropleth\"}],\"contour\":[{\"colorbar\":{\"outlinewidth\":0,\"ticks\":\"\"},\"colorscale\":[[0.0,\"#0d0887\"],[0.1111111111111111,\"#46039f\"],[0.2222222222222222,\"#7201a8\"],[0.3333333333333333,\"#9c179e\"],[0.4444444444444444,\"#bd3786\"],[0.5555555555555556,\"#d8576b\"],[0.6666666666666666,\"#ed7953\"],[0.7777777777777778,\"#fb9f3a\"],[0.8888888888888888,\"#fdca26\"],[1.0,\"#f0f921\"]],\"type\":\"contour\"}],\"contourcarpet\":[{\"colorbar\":{\"outlinewidth\":0,\"ticks\":\"\"},\"type\":\"contourcarpet\"}],\"heatmap\":[{\"colorbar\":{\"outlinewidth\":0,\"ticks\":\"\"},\"colorscale\":[[0.0,\"#0d0887\"],[0.1111111111111111,\"#46039f\"],[0.2222222222222222,\"#7201a8\"],[0.3333333333333333,\"#9c179e\"],[0.4444444444444444,\"#bd3786\"],[0.5555555555555556,\"#d8576b\"],[0.6666666666666666,\"#ed7953\"],[0.7777777777777778,\"#fb9f3a\"],[0.8888888888888888,\"#fdca26\"],[1.0,\"#f0f921\"]],\"type\":\"heatmap\"}],\"heatmapgl\":[{\"colorbar\":{\"outlinewidth\":0,\"ticks\":\"\"},\"colorscale\":[[0.0,\"#0d0887\"],[0.1111111111111111,\"#46039f\"],[0.2222222222222222,\"#7201a8\"],[0.3333333333333333,\"#9c179e\"],[0.4444444444444444,\"#bd3786\"],[0.5555555555555556,\"#d8576b\"],[0.6666666666666666,\"#ed7953\"],[0.7777777777777778,\"#fb9f3a\"],[0.8888888888888888,\"#fdca26\"],[1.0,\"#f0f921\"]],\"type\":\"heatmapgl\"}],\"histogram\":[{\"marker\":{\"pattern\":{\"fillmode\":\"overlay\",\"size\":10,\"solidity\":0.2}},\"type\":\"histogram\"}],\"histogram2d\":[{\"colorbar\":{\"outlinewidth\":0,\"ticks\":\"\"},\"colorscale\":[[0.0,\"#0d0887\"],[0.1111111111111111,\"#46039f\"],[0.2222222222222222,\"#7201a8\"],[0.3333333333333333,\"#9c179e\"],[0.4444444444444444,\"#bd3786\"],[0.5555555555555556,\"#d8576b\"],[0.6666666666666666,\"#ed7953\"],[0.7777777777777778,\"#fb9f3a\"],[0.8888888888888888,\"#fdca26\"],[1.0,\"#f0f921\"]],\"type\":\"histogram2d\"}],\"histogram2dcontour\":[{\"colorbar\":{\"outlinewidth\":0,\"ticks\":\"\"},\"colorscale\":[[0.0,\"#0d0887\"],[0.1111111111111111,\"#46039f\"],[0.2222222222222222,\"#7201a8\"],[0.3333333333333333,\"#9c179e\"],[0.4444444444444444,\"#bd3786\"],[0.5555555555555556,\"#d8576b\"],[0.6666666666666666,\"#ed7953\"],[0.7777777777777778,\"#fb9f3a\"],[0.8888888888888888,\"#fdca26\"],[1.0,\"#f0f921\"]],\"type\":\"histogram2dcontour\"}],\"mesh3d\":[{\"colorbar\":{\"outlinewidth\":0,\"ticks\":\"\"},\"type\":\"mesh3d\"}],\"parcoords\":[{\"line\":{\"colorbar\":{\"outlinewidth\":0,\"ticks\":\"\"}},\"type\":\"parcoords\"}],\"pie\":[{\"automargin\":true,\"type\":\"pie\"}],\"scatter\":[{\"marker\":{\"colorbar\":{\"outlinewidth\":0,\"ticks\":\"\"}},\"type\":\"scatter\"}],\"scatter3d\":[{\"line\":{\"colorbar\":{\"outlinewidth\":0,\"ticks\":\"\"}},\"marker\":{\"colorbar\":{\"outlinewidth\":0,\"ticks\":\"\"}},\"type\":\"scatter3d\"}],\"scattercarpet\":[{\"marker\":{\"colorbar\":{\"outlinewidth\":0,\"ticks\":\"\"}},\"type\":\"scattercarpet\"}],\"scattergeo\":[{\"marker\":{\"colorbar\":{\"outlinewidth\":0,\"ticks\":\"\"}},\"type\":\"scattergeo\"}],\"scattergl\":[{\"marker\":{\"colorbar\":{\"outlinewidth\":0,\"ticks\":\"\"}},\"type\":\"scattergl\"}],\"scattermapbox\":[{\"marker\":{\"colorbar\":{\"outlinewidth\":0,\"ticks\":\"\"}},\"type\":\"scattermapbox\"}],\"scatterpolar\":[{\"marker\":{\"colorbar\":{\"outlinewidth\":0,\"ticks\":\"\"}},\"type\":\"scatterpolar\"}],\"scatterpolargl\":[{\"marker\":{\"colorbar\":{\"outlinewidth\":0,\"ticks\":\"\"}},\"type\":\"scatterpolargl\"}],\"scatterternary\":[{\"marker\":{\"colorbar\":{\"outlinewidth\":0,\"ticks\":\"\"}},\"type\":\"scatterternary\"}],\"surface\":[{\"colorbar\":{\"outlinewidth\":0,\"ticks\":\"\"},\"colorscale\":[[0.0,\"#0d0887\"],[0.1111111111111111,\"#46039f\"],[0.2222222222222222,\"#7201a8\"],[0.3333333333333333,\"#9c179e\"],[0.4444444444444444,\"#bd3786\"],[0.5555555555555556,\"#d8576b\"],[0.6666666666666666,\"#ed7953\"],[0.7777777777777778,\"#fb9f3a\"],[0.8888888888888888,\"#fdca26\"],[1.0,\"#f0f921\"]],\"type\":\"surface\"}],\"table\":[{\"cells\":{\"fill\":{\"color\":\"#EBF0F8\"},\"line\":{\"color\":\"white\"}},\"header\":{\"fill\":{\"color\":\"#C8D4E3\"},\"line\":{\"color\":\"white\"}},\"type\":\"table\"}]},\"layout\":{\"annotationdefaults\":{\"arrowcolor\":\"#2a3f5f\",\"arrowhead\":0,\"arrowwidth\":1},\"autotypenumbers\":\"strict\",\"coloraxis\":{\"colorbar\":{\"outlinewidth\":0,\"ticks\":\"\"}},\"colorscale\":{\"diverging\":[[0,\"#8e0152\"],[0.1,\"#c51b7d\"],[0.2,\"#de77ae\"],[0.3,\"#f1b6da\"],[0.4,\"#fde0ef\"],[0.5,\"#f7f7f7\"],[0.6,\"#e6f5d0\"],[0.7,\"#b8e186\"],[0.8,\"#7fbc41\"],[0.9,\"#4d9221\"],[1,\"#276419\"]],\"sequential\":[[0.0,\"#0d0887\"],[0.1111111111111111,\"#46039f\"],[0.2222222222222222,\"#7201a8\"],[0.3333333333333333,\"#9c179e\"],[0.4444444444444444,\"#bd3786\"],[0.5555555555555556,\"#d8576b\"],[0.6666666666666666,\"#ed7953\"],[0.7777777777777778,\"#fb9f3a\"],[0.8888888888888888,\"#fdca26\"],[1.0,\"#f0f921\"]],\"sequentialminus\":[[0.0,\"#0d0887\"],[0.1111111111111111,\"#46039f\"],[0.2222222222222222,\"#7201a8\"],[0.3333333333333333,\"#9c179e\"],[0.4444444444444444,\"#bd3786\"],[0.5555555555555556,\"#d8576b\"],[0.6666666666666666,\"#ed7953\"],[0.7777777777777778,\"#fb9f3a\"],[0.8888888888888888,\"#fdca26\"],[1.0,\"#f0f921\"]]},\"colorway\":[\"#636efa\",\"#EF553B\",\"#00cc96\",\"#ab63fa\",\"#FFA15A\",\"#19d3f3\",\"#FF6692\",\"#B6E880\",\"#FF97FF\",\"#FECB52\"],\"font\":{\"color\":\"#2a3f5f\"},\"geo\":{\"bgcolor\":\"white\",\"lakecolor\":\"white\",\"landcolor\":\"#E5ECF6\",\"showlakes\":true,\"showland\":true,\"subunitcolor\":\"white\"},\"hoverlabel\":{\"align\":\"left\"},\"hovermode\":\"closest\",\"mapbox\":{\"style\":\"light\"},\"paper_bgcolor\":\"white\",\"plot_bgcolor\":\"#E5ECF6\",\"polar\":{\"angularaxis\":{\"gridcolor\":\"white\",\"linecolor\":\"white\",\"ticks\":\"\"},\"bgcolor\":\"#E5ECF6\",\"radialaxis\":{\"gridcolor\":\"white\",\"linecolor\":\"white\",\"ticks\":\"\"}},\"scene\":{\"xaxis\":{\"backgroundcolor\":\"#E5ECF6\",\"gridcolor\":\"white\",\"gridwidth\":2,\"linecolor\":\"white\",\"showbackground\":true,\"ticks\":\"\",\"zerolinecolor\":\"white\"},\"yaxis\":{\"backgroundcolor\":\"#E5ECF6\",\"gridcolor\":\"white\",\"gridwidth\":2,\"linecolor\":\"white\",\"showbackground\":true,\"ticks\":\"\",\"zerolinecolor\":\"white\"},\"zaxis\":{\"backgroundcolor\":\"#E5ECF6\",\"gridcolor\":\"white\",\"gridwidth\":2,\"linecolor\":\"white\",\"showbackground\":true,\"ticks\":\"\",\"zerolinecolor\":\"white\"}},\"shapedefaults\":{\"line\":{\"color\":\"#2a3f5f\"}},\"ternary\":{\"aaxis\":{\"gridcolor\":\"white\",\"linecolor\":\"white\",\"ticks\":\"\"},\"baxis\":{\"gridcolor\":\"white\",\"linecolor\":\"white\",\"ticks\":\"\"},\"bgcolor\":\"#E5ECF6\",\"caxis\":{\"gridcolor\":\"white\",\"linecolor\":\"white\",\"ticks\":\"\"}},\"title\":{\"x\":0.05},\"xaxis\":{\"automargin\":true,\"gridcolor\":\"white\",\"linecolor\":\"white\",\"ticks\":\"\",\"title\":{\"standoff\":15},\"zerolinecolor\":\"white\",\"zerolinewidth\":2},\"yaxis\":{\"automargin\":true,\"gridcolor\":\"white\",\"linecolor\":\"white\",\"ticks\":\"\",\"title\":{\"standoff\":15},\"zerolinecolor\":\"white\",\"zerolinewidth\":2}}},\"geo\":{\"domain\":{\"x\":[0.0,1.0],\"y\":[0.0,1.0]},\"center\":{},\"scope\":\"usa\"},\"coloraxis\":{\"colorbar\":{\"title\":{\"text\":\"Personal Income per Capita\"}},\"colorscale\":[[0.0,\"#0d0887\"],[0.1111111111111111,\"#46039f\"],[0.2222222222222222,\"#7201a8\"],[0.3333333333333333,\"#9c179e\"],[0.4444444444444444,\"#bd3786\"],[0.5555555555555556,\"#d8576b\"],[0.6666666666666666,\"#ed7953\"],[0.7777777777777778,\"#fb9f3a\"],[0.8888888888888888,\"#fdca26\"],[1.0,\"#f0f921\"]],\"cmin\":0,\"cmax\":0.090043362031741},\"legend\":{\"tracegroupgap\":0},\"margin\":{\"t\":60}},                        {\"responsive\": true}                    ).then(function(){\n",
       "                            \n",
       "var gd = document.getElementById('b2e1c7e0-d010-4e84-b2d5-46259c94437f');\n",
       "var x = new MutationObserver(function (mutations, observer) {{\n",
       "        var display = window.getComputedStyle(gd).display;\n",
       "        if (!display || display === 'none') {{\n",
       "            console.log([gd, 'removed!']);\n",
       "            Plotly.purge(gd);\n",
       "            observer.disconnect();\n",
       "        }}\n",
       "}});\n",
       "\n",
       "// Listen for the removal of the full notebook cells\n",
       "var notebookContainer = gd.closest('#notebook-container');\n",
       "if (notebookContainer) {{\n",
       "    x.observe(notebookContainer, {childList: true});\n",
       "}}\n",
       "\n",
       "// Listen for the clearing of the current output cell\n",
       "var outputEl = gd.closest('.output');\n",
       "if (outputEl) {{\n",
       "    x.observe(outputEl, {childList: true});\n",
       "}}\n",
       "\n",
       "                        })                };                });            </script>        </div>"
      ]
     },
     "metadata": {},
     "output_type": "display_data"
    }
   ],
   "source": [
    "fig = px.choropleth(df1_states_recent,\n",
    "                    locations=\"Abbrev\",\n",
    "                    color= \"Personal Income per Capita\",\n",
    "                    locationmode=\"USA-states\", \n",
    "                    range_color=(0,df1_states_recent[\"Personal Income per Capita\"].max()), \n",
    "                    scope=\"usa\")\n",
    "fig.show()"
   ]
  },
  {
   "cell_type": "code",
   "execution_count": 12,
   "metadata": {},
   "outputs": [
    {
     "data": {
      "text/html": [
       "<div>\n",
       "<style scoped>\n",
       "    .dataframe tbody tr th:only-of-type {\n",
       "        vertical-align: middle;\n",
       "    }\n",
       "\n",
       "    .dataframe tbody tr th {\n",
       "        vertical-align: top;\n",
       "    }\n",
       "\n",
       "    .dataframe thead th {\n",
       "        text-align: right;\n",
       "    }\n",
       "</style>\n",
       "<table border=\"1\" class=\"dataframe\">\n",
       "  <thead>\n",
       "    <tr style=\"text-align: right;\">\n",
       "      <th></th>\n",
       "      <th>SUMLEV</th>\n",
       "      <th>REGION</th>\n",
       "      <th>DIVISION</th>\n",
       "      <th>STATE</th>\n",
       "      <th>NAME</th>\n",
       "      <th>SEX</th>\n",
       "      <th>AGE</th>\n",
       "      <th>ESTBASE2010_CIV</th>\n",
       "      <th>POPEST2010_CIV</th>\n",
       "      <th>POPEST2011_CIV</th>\n",
       "      <th>POPEST2012_CIV</th>\n",
       "      <th>POPEST2013_CIV</th>\n",
       "      <th>POPEST2014_CIV</th>\n",
       "      <th>POPEST2015_CIV</th>\n",
       "      <th>POPEST2016_CIV</th>\n",
       "      <th>POPEST2017_CIV</th>\n",
       "      <th>POPEST2018_CIV</th>\n",
       "      <th>POPEST2019_CIV</th>\n",
       "    </tr>\n",
       "  </thead>\n",
       "  <tbody>\n",
       "    <tr>\n",
       "      <th>13567</th>\n",
       "      <td>40</td>\n",
       "      <td>4</td>\n",
       "      <td>8</td>\n",
       "      <td>56</td>\n",
       "      <td>Wyoming</td>\n",
       "      <td>2</td>\n",
       "      <td>82</td>\n",
       "      <td>1103</td>\n",
       "      <td>1103</td>\n",
       "      <td>1107</td>\n",
       "      <td>1084</td>\n",
       "      <td>1106</td>\n",
       "      <td>1105</td>\n",
       "      <td>1037</td>\n",
       "      <td>1091</td>\n",
       "      <td>1126</td>\n",
       "      <td>1110</td>\n",
       "      <td>1166</td>\n",
       "    </tr>\n",
       "    <tr>\n",
       "      <th>13568</th>\n",
       "      <td>40</td>\n",
       "      <td>4</td>\n",
       "      <td>8</td>\n",
       "      <td>56</td>\n",
       "      <td>Wyoming</td>\n",
       "      <td>2</td>\n",
       "      <td>83</td>\n",
       "      <td>911</td>\n",
       "      <td>936</td>\n",
       "      <td>1028</td>\n",
       "      <td>1035</td>\n",
       "      <td>1002</td>\n",
       "      <td>1030</td>\n",
       "      <td>1031</td>\n",
       "      <td>954</td>\n",
       "      <td>1024</td>\n",
       "      <td>1047</td>\n",
       "      <td>1036</td>\n",
       "    </tr>\n",
       "    <tr>\n",
       "      <th>13569</th>\n",
       "      <td>40</td>\n",
       "      <td>4</td>\n",
       "      <td>8</td>\n",
       "      <td>56</td>\n",
       "      <td>Wyoming</td>\n",
       "      <td>2</td>\n",
       "      <td>84</td>\n",
       "      <td>894</td>\n",
       "      <td>883</td>\n",
       "      <td>880</td>\n",
       "      <td>1011</td>\n",
       "      <td>988</td>\n",
       "      <td>945</td>\n",
       "      <td>973</td>\n",
       "      <td>974</td>\n",
       "      <td>916</td>\n",
       "      <td>984</td>\n",
       "      <td>1006</td>\n",
       "    </tr>\n",
       "    <tr>\n",
       "      <th>13570</th>\n",
       "      <td>40</td>\n",
       "      <td>4</td>\n",
       "      <td>8</td>\n",
       "      <td>56</td>\n",
       "      <td>Wyoming</td>\n",
       "      <td>2</td>\n",
       "      <td>85</td>\n",
       "      <td>5624</td>\n",
       "      <td>5646</td>\n",
       "      <td>5731</td>\n",
       "      <td>5849</td>\n",
       "      <td>6042</td>\n",
       "      <td>6250</td>\n",
       "      <td>6371</td>\n",
       "      <td>6543</td>\n",
       "      <td>6741</td>\n",
       "      <td>6801</td>\n",
       "      <td>6863</td>\n",
       "    </tr>\n",
       "    <tr>\n",
       "      <th>13571</th>\n",
       "      <td>40</td>\n",
       "      <td>4</td>\n",
       "      <td>8</td>\n",
       "      <td>56</td>\n",
       "      <td>Wyoming</td>\n",
       "      <td>2</td>\n",
       "      <td>999</td>\n",
       "      <td>275794</td>\n",
       "      <td>276212</td>\n",
       "      <td>277554</td>\n",
       "      <td>281563</td>\n",
       "      <td>284372</td>\n",
       "      <td>284645</td>\n",
       "      <td>285849</td>\n",
       "      <td>285299</td>\n",
       "      <td>283137</td>\n",
       "      <td>282798</td>\n",
       "      <td>283502</td>\n",
       "    </tr>\n",
       "  </tbody>\n",
       "</table>\n",
       "</div>"
      ],
      "text/plain": [
       "       SUMLEV  REGION  DIVISION  STATE     NAME  SEX  AGE  ESTBASE2010_CIV  \\\n",
       "13567      40       4         8     56  Wyoming    2   82             1103   \n",
       "13568      40       4         8     56  Wyoming    2   83              911   \n",
       "13569      40       4         8     56  Wyoming    2   84              894   \n",
       "13570      40       4         8     56  Wyoming    2   85             5624   \n",
       "13571      40       4         8     56  Wyoming    2  999           275794   \n",
       "\n",
       "       POPEST2010_CIV  POPEST2011_CIV  POPEST2012_CIV  POPEST2013_CIV  \\\n",
       "13567            1103            1107            1084            1106   \n",
       "13568             936            1028            1035            1002   \n",
       "13569             883             880            1011             988   \n",
       "13570            5646            5731            5849            6042   \n",
       "13571          276212          277554          281563          284372   \n",
       "\n",
       "       POPEST2014_CIV  POPEST2015_CIV  POPEST2016_CIV  POPEST2017_CIV  \\\n",
       "13567            1105            1037            1091            1126   \n",
       "13568            1030            1031             954            1024   \n",
       "13569             945             973             974             916   \n",
       "13570            6250            6371            6543            6741   \n",
       "13571          284645          285849          285299          283137   \n",
       "\n",
       "       POPEST2018_CIV  POPEST2019_CIV  \n",
       "13567            1110            1166  \n",
       "13568            1047            1036  \n",
       "13569             984            1006  \n",
       "13570            6801            6863  \n",
       "13571          282798          283502  "
      ]
     },
     "execution_count": 12,
     "metadata": {},
     "output_type": "execute_result"
    }
   ],
   "source": [
    "df2 = pd.read_csv(\"sc-est2019-agesex-civ.csv\")\n",
    "\n",
    "df2.tail()"
   ]
  },
  {
   "cell_type": "code",
   "execution_count": 18,
   "metadata": {},
   "outputs": [
    {
     "name": "stdout",
     "output_type": "stream",
     "text": [
      "Lenght of our Training data: (1840, 2) \n",
      "Length of our Testing data: (920, 2)\n"
     ]
    }
   ],
   "source": [
    "X_train, X_test, y_train, y_test = train_test_split(df1[['Real GDP', 'Population']], df1['Personal Income'], test_size=0.333, random_state=45)\n",
    "\n",
    "print('Lenght of our Training data:', X_train.shape, '\\nLength of our Testing data:', X_test.shape)"
   ]
  },
  {
   "cell_type": "code",
   "execution_count": 19,
   "metadata": {},
   "outputs": [
    {
     "data": {
      "text/plain": [
       "LinearRegression()"
      ]
     },
     "execution_count": 19,
     "metadata": {},
     "output_type": "execute_result"
    }
   ],
   "source": [
    "model_lin = LinearRegression()\n",
    "model_lin.fit(X_train, y_train)"
   ]
  },
  {
   "cell_type": "code",
   "execution_count": 20,
   "metadata": {},
   "outputs": [
    {
     "data": {
      "text/plain": [
       "array([  176728.76357444,   311759.04217941,   147914.18449239,\n",
       "         112468.70394252,   149109.27830085,    43999.78860624,\n",
       "         230217.85755482,   286027.69193999,  1053757.37473474,\n",
       "         454037.85843795,   260302.6834864 ,   264539.78595407,\n",
       "         108835.79803529,   181963.35694825,    33558.98464163,\n",
       "         657011.44518326,   550377.76408564,   105243.79483187,\n",
       "         258363.37125135, 14818137.76737861,    63645.98702479,\n",
       "         126493.44050829,    79443.99065976,   250669.89764579,\n",
       "         508308.69898148,   139916.3857785 ,   762881.65809599,\n",
       "          60899.45571997, 18055658.44263294,   114466.30172593,\n",
       "         554305.57953588,  1302040.54425916,    48942.50181193,\n",
       "          49349.48166574,   464811.06459492,   679322.47544516,\n",
       "         864886.41907495,   601178.45880967,   171284.80549464,\n",
       "       17632864.65879671,   918345.67175467,    37722.3550803 ,\n",
       "        1642173.10945404,   102538.11209241,    79886.0768324 ,\n",
       "         218415.17290695,   896927.62510311,   489661.75749166,\n",
       "         913674.40567935,   492969.93228827,   131471.67461994,\n",
       "         337465.24976843,   204281.14127379,  2157834.10064984,\n",
       "          57230.03918105,   232693.70705302,   229699.30969396,\n",
       "         167430.14946635,  2398907.26938213,   450155.42218014,\n",
       "         780993.71857448,   129400.53472535,   109953.90074966,\n",
       "        1251630.71794705,   555177.54549983,   235158.69841328,\n",
       "          42149.96783571,    77962.2411815 ,   473800.41335419,\n",
       "          23761.81208961,   178174.70606554,   521410.33752269,\n",
       "          40434.32428765,   251524.68645528,    23444.5967081 ,\n",
       "          49200.64380203,   276832.72535761,   495229.2941079 ,\n",
       "         147663.96274895,   229645.63132064, 15226513.5884239 ,\n",
       "          91775.59480404,  3101566.85091168,   149310.06373839,\n",
       "        1648625.95987024, 18150765.37472228,  3551640.81669185,\n",
       "         129549.36484078,   276132.49177407,    49761.58489679,\n",
       "         311742.26104847,    22366.45092449,   399903.57375625,\n",
       "         115191.38011116,    80192.71569498,   674461.29611533,\n",
       "         406388.63325003,   279505.98895269,    41241.6304128 ,\n",
       "        2838151.03761923,    49900.93299426,    36801.30830539,\n",
       "         115696.00986146,   476923.3587184 ,   594761.43143369,\n",
       "         124977.70457762,   382542.30699183,   357854.67045262,\n",
       "         136339.17898785,   726328.37142948,   349910.65546552,\n",
       "         135090.91908547,  2777821.11480823,  1047691.59894383,\n",
       "          38875.48628699,   735099.65345698,    77972.52693484,\n",
       "          23500.8525679 ,  2187789.23764281,   156878.68598156,\n",
       "         653732.34369255,   248743.99083914,   485091.79476571,\n",
       "        1145052.85840022,    58171.54682508, 14200881.31334544,\n",
       "         105469.34559899,   273996.0516884 ,   414835.97341697,\n",
       "        2087279.49114895,   112136.74835825,  1646303.72046397,\n",
       "         173408.85793888,    45152.93248261,   229675.01463057,\n",
       "         829118.93677593,   474783.24952256,   156641.91722758,\n",
       "         487349.84837099,    34769.99208805,   214613.22998528,\n",
       "         300259.04811123, 17496092.41138928,   125295.02699633,\n",
       "         310002.98323889,   213330.49749637,   358851.26844114,\n",
       "         112750.14360019,   196430.77986752,   208414.56830547,\n",
       "         493788.02647386,    75585.62831503,   455061.20266527,\n",
       "         139063.68795724,  1105894.56083902,  1239539.5964932 ,\n",
       "         263925.44293941,   142631.26350504,   411844.39398521,\n",
       "         116724.86788456,   260910.70520183,   161623.23973836,\n",
       "       14639647.1332641 ,   130638.67492317,    99535.01444166,\n",
       "          81499.81604569,    40313.83363366, 17978348.4771598 ,\n",
       "         373735.11494185,    23522.00235065,    60984.1624444 ,\n",
       "          44175.97789562,    57620.2456617 ,  3114064.87150578,\n",
       "         423604.64756801,   417973.94400474,   411085.33359565,\n",
       "         275165.02059008,   155846.95859539,   148454.78778817,\n",
       "        2337735.69092791,   295214.09428341,   694744.28575316,\n",
       "         248615.44611292,   405538.56509358,   493070.56328812,\n",
       "         172627.11359663,  1322800.59654036,   177443.08502605,\n",
       "        1980909.21797555,   231161.34652207,   489063.67783214,\n",
       "          33962.47848561,   359971.89316044,   631605.12467331,\n",
       "        1564447.61326645,    77369.9137787 ,   173294.43472697,\n",
       "         233289.25311558,   269480.05522848,    54301.90900597,\n",
       "          88385.17316428,    76337.05514352,    52758.96371726,\n",
       "         241845.72655781,    36462.22735625,   285540.00208657,\n",
       "         281022.85491649,    73679.65457953,   397433.79466298,\n",
       "         412767.9542727 ,   157258.49614946,    55738.61472444,\n",
       "          22739.04788444,   246250.52814251,   257216.01438334,\n",
       "        2565935.90888127,   634854.81123056,    39744.29606567,\n",
       "        3584931.7925308 ,  2217690.59815846,    49434.25988971,\n",
       "          50975.15692464,  2777274.6746224 ,   146050.14156681,\n",
       "         673863.80807987,   156195.23592847,   144523.0381913 ,\n",
       "         335486.22733657,  2075115.07789883,   338424.10364096,\n",
       "          45056.98207174,    49233.31147521,    32787.61036499,\n",
       "         410911.49809538,   268994.72383033,   457573.42661742,\n",
       "         150342.66862466,   559585.96253022,    75524.54413845,\n",
       "          83083.56414883,    64172.36223602,  3316789.41311888,\n",
       "        2396258.31960759,   579073.94381101,    51166.54663241,\n",
       "         500019.54977004,   116444.66774571,   824705.88565569,\n",
       "         232566.72216303,   238422.80442512,   102953.05861785,\n",
       "         528103.1922804 ,   543375.70838923,   345524.78226458,\n",
       "        1526764.03500624,   469318.91392496,   241642.90845403,\n",
       "        2068482.71359064,   278849.19531148,   141169.26883373,\n",
       "          44916.60643542,   138853.56854871,   659921.94950513,\n",
       "          93801.05727844,   566391.36151137,   112392.066764  ,\n",
       "         156984.44535199,   228427.21741511,   276158.16639333,\n",
       "         474798.68695605,  3593574.4833072 ,    53556.04971202,\n",
       "          23507.65231695,   150241.02563385,    65437.01053411,\n",
       "         275051.90603253,  1007459.52618888,    40640.3379226 ,\n",
       "         217505.62591393,   491332.08880557,   569566.50108195,\n",
       "         157390.71188836,    38353.40841763,   421558.22472779,\n",
       "        1598972.97766786,    47139.80987809,  3507472.12428424,\n",
       "         311185.65330096,   436342.02415451,  1704518.07779593,\n",
       "         139518.55845227,   198928.5353702 ,   468434.63008656,\n",
       "         159133.94364085,   350131.03777537,   265838.35654642,\n",
       "         200859.64361518,  1520148.5781806 ,   343203.75101369,\n",
       "         626344.66324584,   701233.73967982,    37654.20204116,\n",
       "        1634154.22320075,  2864196.83194547,   116732.4506706 ,\n",
       "        1339650.0741342 , 15060470.60723234,    46945.73823484,\n",
       "         499549.05480366,    39456.86290207,  2266363.33066737,\n",
       "        2210730.46698755,   874155.04368856,   159497.68290216,\n",
       "          23562.39216832,  2321037.18720774,    62811.71696467,\n",
       "        1577849.88199635,   199864.9682078 ,   455706.40627086,\n",
       "         158935.01573428,  1049068.01796213,    97295.59799399,\n",
       "        3429475.51781499,  3563819.59888428,   990505.45819113,\n",
       "         224577.70814079,    61981.80970191,   115740.33300507,\n",
       "         153827.61029218,  2981765.33674668,   242113.66435274,\n",
       "          78008.604972  ,   456456.46069222,    36023.87337894,\n",
       "         592751.23894554,   115291.54810336,   154134.28214758,\n",
       "         694492.56342622,    34407.40582815,   251183.76442547,\n",
       "        2230336.46024179,    38600.14049313,   703012.50564166,\n",
       "         743062.03979428,   351485.00303286,    32897.5232201 ,\n",
       "         466865.87091416,    43474.37058861,   306410.4018053 ,\n",
       "         397734.14713903,   144445.66241201,   114238.90459796,\n",
       "         123433.83277559,    44378.17858149,   244112.27712148,\n",
       "         165400.5627724 ,   398668.05809645,  2161774.8220064 ,\n",
       "          46487.6642819 ,   436474.57890979,   143274.59966286,\n",
       "         704288.40393102,   517139.11247861,   161334.86708201,\n",
       "        2757697.99714464,    34569.96968912,  3218687.44740274,\n",
       "         175931.99111921,    37868.22422889, 15247343.32073474,\n",
       "         111132.56148991,  2983679.31438556,    71191.32173953,\n",
       "          51593.03380644,    33857.79930395,  1111610.05352549,\n",
       "          66581.43993613, 16295442.79852385,   412577.64817385,\n",
       "          51457.910171  ,   239616.65193923,    37498.08710521,\n",
       "         630905.9480685 ,  2901673.43232254, 17915848.03571831,\n",
       "         167532.98381603,   243848.72444835,   275917.89093429,\n",
       "          80663.89778631,   183980.94659077,    56925.67028828,\n",
       "         238826.60491609,   124304.77420774,   162180.65229106,\n",
       "         646870.11525993,    67955.74783346,    69622.42616668,\n",
       "          76539.13899762,  2273684.60016986,   264378.40896271,\n",
       "          35859.93652449,    40189.17321306,   315171.69608341,\n",
       "       15034880.82322639,    50021.28113425,    58100.76133929,\n",
       "         382782.24149169,    49857.79000384,   238080.45972818,\n",
       "         481546.91594374,   126047.64734454,    36291.01397234,\n",
       "          44985.3864177 ,  1052241.44934923, 16994791.14948035,\n",
       "         977577.19332924,   522102.04632355,   127862.9428975 ,\n",
       "         272885.94021382,   459058.43964847,   483715.18392797,\n",
       "         448074.42867495,   308926.90111874,   143331.88347151,\n",
       "         938334.10077923,   159455.11350502,    45197.37037772,\n",
       "         117304.78200555,    62013.68405919,    45175.78039512,\n",
       "          23418.63149472,    59126.4040431 ,    40161.24308476,\n",
       "        1684416.70391096,    38676.38147353,   991586.19694287,\n",
       "        3609737.09758299,    71331.41888408,   125468.3724903 ,\n",
       "         425248.71895108,   359446.56377922,    98123.33936453,\n",
       "         114263.95624421,    47746.11929295, 15440530.06532933,\n",
       "          41970.6406308 ,   846778.49806547,   413985.30616519,\n",
       "          57935.80776211,  1225954.06099797,   155418.20966202,\n",
       "          62264.0596866 ,   303009.71240544,    33222.75590134,\n",
       "         119032.18334362,   281271.57726438,   116933.6662148 ,\n",
       "        2185560.06184361,    47934.29210357,   157919.13436812,\n",
       "         153522.90014241,   272027.06283944,   444192.60084642,\n",
       "         500126.17055467,    79718.81541865,    39717.71453488,\n",
       "         179746.08876231,   457784.77076881,  3165665.21942886,\n",
       "          36777.39705016,   156157.82346228,   195113.4043133 ,\n",
       "          65127.77063199,  2094730.74226416,   407634.10708412,\n",
       "        3263393.64163266,   161437.83564759,    43882.87419756,\n",
       "         140789.84217847,  2235746.32975352,   169029.98346541,\n",
       "          95673.39229472,    89785.17351137,    34625.46523846,\n",
       "         145309.50730285,   207833.58547641,   937450.15921452,\n",
       "         422613.17181832,   304669.50446043,   243281.59156372,\n",
       "         234143.16429695,    50986.05129454,   582178.19107033,\n",
       "         770224.8051192 ,   837962.70829456,    78746.38857249,\n",
       "        1488062.95583798,   123968.43037382,   143436.7699985 ,\n",
       "         162188.47002135,   638546.58847419,   259030.97880895,\n",
       "          44678.98285337,   103777.69572222,    45623.70611384,\n",
       "        3124930.02944239,   491526.84949911,   244277.32496428,\n",
       "        3780088.84831896,   157267.80481591,    76363.14348955,\n",
       "          73728.69259677,   164573.7948276 ,   151321.43085236,\n",
       "         342604.53475862,    55527.81215325,   124749.65090242,\n",
       "        3062671.20781163,    52052.18192616,    57558.05165981,\n",
       "          45671.5660068 ,    57168.45607819,   846382.11628859,\n",
       "         642886.29285733,   157638.64662548,   153534.72254969,\n",
       "         661277.95864977,  3287519.79948707,   440984.11413758,\n",
       "          68160.37413582,    61646.84708538,  2294787.15998303,\n",
       "         101884.15712289,    40167.57802938,   163469.54022154,\n",
       "         297959.91817105,   158393.31992846,   443562.45316985,\n",
       "         232205.09694044,  1060309.8327857 ,  2483703.29438911,\n",
       "         360310.00104901,   703271.22416488,   131739.06311803,\n",
       "         541244.0756564 ,   156870.20550341,    23137.6618141 ,\n",
       "         493287.90085683,   347501.95455374,    45549.89976153,\n",
       "         681647.90383348,    62392.09799665,    80817.79343112,\n",
       "          74907.01583053,    57327.14717497,   286926.08588255,\n",
       "        1518184.67886906,   506596.97530916,   290959.73522229,\n",
       "         424065.0569407 ,    38670.09378101,   174781.43090545,\n",
       "        2542383.81490593,    68816.33861851,    61680.77477034,\n",
       "         151138.29416525,   177592.03242915,   122786.27348071,\n",
       "          34882.21894947,    38180.15276242,    94951.10104126,\n",
       "         154584.37265157,   115239.9429061 ,    88538.47274928,\n",
       "        1940540.70919677,   451453.34798941,   290446.10163453,\n",
       "         235441.38345218,   139092.94661433,   289748.11026152,\n",
       "        1232258.97014585,    34255.81049369,  3535592.83309371,\n",
       "         275942.85090875,    46439.97177535,   243099.15887191,\n",
       "          36865.00762439,    59436.357017  ,    70348.83358642,\n",
       "          81747.20344313,  2258079.40815541,    39781.33309541,\n",
       "         126548.73489855,   146086.6121827 ,    23818.79449356,\n",
       "         311720.47949678,   519547.81852353,    42067.37168474,\n",
       "         399901.43675633,   272018.1692413 ,   851798.4226518 ,\n",
       "         424060.16154647,    32571.41809839,   731401.61762545,\n",
       "        1291796.7243426 ,   482004.40194381,    46025.45078041,\n",
       "         152624.31092692,    74115.50448654,    53639.31859269,\n",
       "         396599.60891261,    46509.64083001,  2995285.59722421,\n",
       "         298325.94123566,  1090199.13529798,   411826.92096054,\n",
       "        3065180.60346572,    60786.78225907,  1876647.84595478,\n",
       "       14526209.90453004,   541029.80653251,   147921.50999712,\n",
       "          74392.47196156,   155420.02334128,    38364.57680268,\n",
       "         473806.26657733,   519268.07330838,  3049793.83358043,\n",
       "         171026.38404811,   135194.90575947, 17590818.47640471,\n",
       "          54814.03241611,   190231.04735192,   148974.57597774,\n",
       "        2286754.12696428,    23800.97943681,   654564.25730029,\n",
       "         168912.05298742,   428117.06696493,   113254.44370275,\n",
       "        2175036.97047592,   125911.62073215,    38087.22436207,\n",
       "         163092.39257536,  2804044.2985794 ,    54428.87534407,\n",
       "         510559.22083651,   483361.26737271,   125603.12265813,\n",
       "          75866.07392995,    36129.05122535,   529559.3829607 ,\n",
       "          93248.71058221,   494518.48159577,   114624.74751339,\n",
       "         252665.43465192,   616038.33184458,    60556.15636472,\n",
       "         379029.01991677,    23803.0132709 ,    43167.30533434,\n",
       "          65740.69049195,    20403.69330364,   135508.08514223,\n",
       "         273119.33916002,    22481.28485139,   176644.51552109,\n",
       "         886820.93080889,   141189.62611437,    81220.82782581,\n",
       "         465031.07196527,  2782767.0981233 ,   114550.75819989,\n",
       "         359699.24214714,    59882.47647289, 15385737.54866009,\n",
       "         114526.00198454,    75959.01258865,   488194.86670469,\n",
       "         360064.36979037,   296752.46741792,   110837.6618237 ,\n",
       "         641777.0275943 ,    81057.38755502,   331749.64354006,\n",
       "         163055.06671493,    51362.21980672,   153892.44989157,\n",
       "         129144.15863452,   596843.28588468,   492783.20687257,\n",
       "        1218630.70944143,   160446.98675961,    73841.84847687,\n",
       "          35318.53115715,   260588.07920366,  3088346.10324846,\n",
       "         320572.090555  ,    45428.37836494,    33109.73814086,\n",
       "         680760.20157538,   445790.26980889,   318332.10195121,\n",
       "         322435.21563287,    66848.43014476,    64737.60689686,\n",
       "         428016.74444883,   151428.92153736,   882176.81515407,\n",
       "         526424.53072073,    81248.31082607,   227897.89887472,\n",
       "          58870.63190902,   153946.01910068,  2270513.89103364,\n",
       "          80424.31473293,   422313.23401794,   185482.19036248,\n",
       "          46779.79274499,   244487.25156408,   720055.18206796,\n",
       "         288411.33716108,    58055.55525587,   273443.30605875,\n",
       "        3673603.59956341,    48566.81723034,   290531.69368162,\n",
       "         155511.3857577 ,   236204.0200847 ,   431125.12488869,\n",
       "          82729.52151236,   423319.75714275,   470284.1078801 ,\n",
       "         440991.99935782,   252081.26911711,  2304165.18110275,\n",
       "         168368.69582201,   176418.58932937, 16856677.22513155,\n",
       "         434464.40675098,    51590.93650234,   636681.64088326,\n",
       "         134356.26712024,   401299.18806665,   261987.45682263,\n",
       "         677119.61753412,    48898.07431104,   387542.18755127,\n",
       "         148275.50715833,   303709.49962647,   172554.12452084,\n",
       "          44824.3085865 ,   454994.38961892,  1974874.80867224,\n",
       "         405956.81541204,    23307.59891067,  1005611.31674951,\n",
       "          55204.60649174,  2212405.01906883,   711773.37951372,\n",
       "         181581.97816308,   251428.73918105,   395728.50300243,\n",
       "         459626.14908756,   308603.5362678 ,   655674.97354843,\n",
       "          85302.77123085,   349093.38361304,  2157774.15236585,\n",
       "         244612.95067466,    82859.9709323 ,  1102532.06024568,\n",
       "         262495.12326616,   507838.22357027,    45144.17064791,\n",
       "         116794.00252123,    47182.46052911,    61110.67002609,\n",
       "         322085.84998586,    53937.80196244,   206499.52559459,\n",
       "        2291220.7094196 ,  2681078.69202577, 14627101.55337834,\n",
       "         368218.37901405,   252762.92804125,   683895.30839686,\n",
       "         416172.92582043,   386544.17385783,  2033523.85996961,\n",
       "          61999.01341793,   538768.51086947,    55710.28477865,\n",
       "         165865.48421321,   659365.22315528,   163395.96129516,\n",
       "         277487.2412625 ,   891115.85436283,    74957.4481441 ,\n",
       "        1048730.510426  ,    57854.0813804 ,    54123.30313624,\n",
       "         269993.22843549,    57647.57432208,    76035.06404311,\n",
       "        2089126.2816567 ,  2776093.72746453,   512233.53461266,\n",
       "        1384741.68775782,   290059.47807053,  3507105.65549971,\n",
       "         219109.54087427,    87707.82008635,    22656.71896107,\n",
       "         223581.26683799,    63656.77402883,   258440.78170943,\n",
       "        2057430.4932022 ,   833028.69779741,   154938.21483928,\n",
       "        3544269.32553723,   500479.55596038,   170864.1486868 ,\n",
       "         445494.81847023,   484729.54794642,    37809.74109897,\n",
       "         741522.17953261,   147473.41999227,    54488.45933196,\n",
       "         155722.97792432,  1665081.01704757,   406544.90545318,\n",
       "         656938.69840502,  2024042.97796835,   158853.97463573,\n",
       "         319855.00238006,   700719.0627377 ,    53150.15498257,\n",
       "          45571.8411615 ,   243374.1747915 ,   306046.56251396,\n",
       "         168240.84897042,    50249.88886722,   404517.60278061,\n",
       "         918576.91243524,   261632.98207985,   488508.17227383,\n",
       "          32970.53505718,    50923.25053441, 16569419.7748119 ,\n",
       "        1384196.81614337,   159293.51505046,   151070.79886881,\n",
       "         991023.37608765,    60559.65303983,   163218.14922092,\n",
       "          59107.98161498,   266268.45198441,  1210302.30877519,\n",
       "        2652950.50307038,   882857.11325667,   648528.14042557,\n",
       "        2581345.63301887,   568979.22147848,   179336.09134055,\n",
       "         163451.30155339,   383479.46850512,   248394.91602806,\n",
       "         513954.24320515,   158197.85054887,  2743977.96570768,\n",
       "          88165.68458685,   155978.16878642,  2902164.66243107,\n",
       "        2027815.38052725,   265273.54823935,  3495549.09236168,\n",
       "          53945.23938232,    44335.934684  ,   431171.18672222,\n",
       "         938160.68628404,   129504.34553297,   158292.22144022,\n",
       "         163328.28609429,    34306.90009409,   444737.46948922,\n",
       "         241790.2118634 ,   115352.49669799,   156857.54301799,\n",
       "         255004.35190607,   336830.8495561 ,   244121.59979996,\n",
       "        3074423.28911649,  2616039.30764409,   151858.46425665,\n",
       "       15074468.14217022,  1002092.88635097,    74386.26030997,\n",
       "         394429.8880781 ,    65334.14012928,   189089.6838207 ,\n",
       "          24041.17288752,   393296.78608143,    43565.90004302,\n",
       "        1256839.09911585,    94307.62816151,   239085.95693841,\n",
       "         676004.55795136,  1652176.7936176 ,    37869.19346324,\n",
       "         588110.98158463,   229902.1962784 ,    64165.56174035,\n",
       "         228033.14622046,   252784.97469047,  2629270.15652061,\n",
       "         121087.77940757,   341423.67741586])"
      ]
     },
     "execution_count": 20,
     "metadata": {},
     "output_type": "execute_result"
    }
   ],
   "source": [
    "y_pred = model_lin.predict(X_test)\n",
    "y_pred"
   ]
  },
  {
   "cell_type": "code",
   "execution_count": 25,
   "metadata": {},
   "outputs": [
    {
     "name": "stdout",
     "output_type": "stream",
     "text": [
      "R-Squared Score: 0.9925802407745116\n",
      "Mean Absolute Error: 70892.42297119886\n"
     ]
    }
   ],
   "source": [
    "r_squared = metrics.r2_score(y_test, y_pred)\n",
    "print('R-Squared Score:', r_squared)\n",
    "\n",
    "mae = metrics.mean_absolute_error(y_test, y_pred)\n",
    "print(\"Mean Absolute Error:\", mae)"
   ]
  },
  {
   "cell_type": "code",
   "execution_count": 33,
   "metadata": {},
   "outputs": [],
   "source": [
    "model_rfr = RandomForestRegressor(n_estimators=360, max_depth=9, random_state=1)\n",
    "\n",
    "model_rfr.fit(X_train, y_train)\n",
    "\n",
    "y_pred = model_rfr.predict(X_test)"
   ]
  },
  {
   "cell_type": "code",
   "execution_count": 34,
   "metadata": {},
   "outputs": [
    {
     "name": "stdout",
     "output_type": "stream",
     "text": [
      "R-Squared Score: 0.9984727427685688\n",
      "Mean Absolute Error: 28784.33624996972\n"
     ]
    }
   ],
   "source": [
    "r_squared = metrics.r2_score(y_test, y_pred)\n",
    "print('R-Squared Score:', r_squared)\n",
    "\n",
    "mae = metrics.mean_absolute_error(y_test, y_pred)\n",
    "print(\"Mean Absolute Error:\", mae)"
   ]
  },
  {
   "cell_type": "code",
   "execution_count": null,
   "metadata": {},
   "outputs": [],
   "source": []
  }
 ],
 "metadata": {
  "kernelspec": {
   "display_name": "Python 3",
   "language": "python",
   "name": "python3"
  },
  "language_info": {
   "codemirror_mode": {
    "name": "ipython",
    "version": 3
   },
   "file_extension": ".py",
   "mimetype": "text/x-python",
   "name": "python",
   "nbconvert_exporter": "python",
   "pygments_lexer": "ipython3",
   "version": "3.8.3"
  }
 },
 "nbformat": 4,
 "nbformat_minor": 5
}
